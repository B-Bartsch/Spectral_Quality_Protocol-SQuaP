{
  "nbformat": 4,
  "nbformat_minor": 0,
  "metadata": {
    "colab": {
      "private_outputs": true,
      "provenance": [],
      "collapsed_sections": [
        "P6y7KQgQGLJj",
        "QMV7jy3cq7PL",
        "Ihy671sqrV2K",
        "xLLw6PipG5e0",
        "PaeMkL81u3c_",
        "43pW8aYm125B",
        "sBZiuz6M93QW",
        "_6shgha0ASFY",
        "eNcXebwYA-qR",
        "oN9Nql3DCcXw",
        "Dgecr7YTDKmP",
        "wJgxpdrWmndk"
      ]
    },
    "kernelspec": {
      "name": "python3",
      "display_name": "Python 3"
    },
    "language_info": {
      "name": "python"
    }
  },
  "cells": [
    {
      "cell_type": "markdown",
      "source": [
        "# **Step 1° - Convolution of hyperspectral data**"
      ],
      "metadata": {
        "id": "P6y7KQgQGLJj"
      }
    },
    {
      "cell_type": "code",
      "execution_count": null,
      "metadata": {
        "id": "91fFrPQ2D5aX"
      },
      "outputs": [],
      "source": [
        "import os\n",
        "import pandas as pd\n",
        "\n",
        "# Setting the working directory\n",
        "os.chdir(\"E:/OneDrive/Documentos/Doutorado/protocol_database/continents_protocol_validation/hyperspectral_data_approach/Asia\")\n",
        "\n",
        "# Reading the CSV file\n",
        "DB_raw = pd.read_csv(\"DB_Worldspecs_raw_Asia_9.csv\", encoding='ISO-8859-1')\n",
        "\n",
        "hyper_data = DB_raw\n",
        "\n",
        "# Select the ID column number and the numbers where the hyperspectral bands begin and end\n",
        "hyper_data = hyper_data.iloc[:, [0] + list(range(109, 2260))]"
      ]
    },
    {
      "cell_type": "code",
      "source": [
        "print(hyper_data)"
      ],
      "metadata": {
        "id": "RmE0LkB0Ea5E"
      },
      "execution_count": null,
      "outputs": []
    },
    {
      "cell_type": "code",
      "source": [
        "##################################################################\n",
        "#  At this stage of the script, data from hyperspectral bands    #\n",
        "#  to multispectral bands is convolved.                          #\n",
        "#  Pay attention to the script comments at this stage            #\n",
        "##################################################################\n",
        "\n",
        "\n",
        "# Imports\n",
        "# Se estiver executando o script na máquina pessoal, insira o diretório da linguagem R instalada na máquina\n",
        "os.environ['R_HOME'] = 'C:/Program Files/R/R-4.3.2'\n",
        "import rpy2.robjects as robjects\n",
        "from rpy2.robjects.packages import importr\n",
        "\n",
        "# Saving Dataframes to CSV\n",
        "\n",
        "os.chdir(\"E:/OneDrive/Documentos/Doutorado/protocol_database/continents_protocol_validation/hyperspectral_data_approach/Asia/Step_1\")\n",
        "hyper_data.to_csv(\"hyper_data.csv\", index=False)\n",
        "\n",
        "# R Script\n",
        "r_script = \"\"\"\n",
        "\n",
        "# Reading CSV files\n",
        "\n",
        "# Ajuste do limite de memória no início do script\n",
        "#memory.limit(size=20000000)\n",
        "\n",
        "setwd(\"E:/OneDrive/Documentos/Doutorado/protocol_database/continents_protocol_validation/hyperspectral_data_approach/Asia/Step_1\")\n",
        "hyper_data <- read.csv(\"hyper_data.csv\", header = TRUE, sep = \",\")\n",
        "\n",
        "rownames(hyper_data) <- hyper_data[, 1]\n",
        "hyper_data1 <- hyper_data\n",
        "hyper_data1 <- hyper_data1[, -1]\n",
        "ID_Unique <- hyper_data[, 1]\n",
        "colnames(hyper_data1) <- seq(from = 350, to = 2500, by = 1)\n",
        "\n",
        "\n",
        "##############################################################################################\n",
        "## R: Directory path to the required hsdar package libraries##                               #\n",
        "#                                                                                            #\n",
        ".libPaths(\"E:/OneDrive/Documentos/Doutorado/protocol_database/libraires\")                    #\n",
        "#                                                                                            #\n",
        "##############################################################################################\n",
        "\n",
        "# Load the hsdar package\n",
        "library(hsdar)\n",
        "\n",
        "\n",
        "# Create a matrix of the data\n",
        "hyper_data.matrix <- as.matrix(hyper_data1)\n",
        "\n",
        "# Wavelengths for hyperspectral data\n",
        "wave.hyper_data <- seq(from = 350, to = 2500, by = 1)\n",
        "\n",
        "# Create speclib of the data\n",
        "hyper_data.speclib <- speclib(hyper_data.matrix, wave.hyper_data)\n",
        "\n",
        "# Get characteristics of the sensor\n",
        "get.sensor.characteristics(\"Sentinel2a\", response_function = TRUE)\n",
        "\n",
        "\n",
        "############################################################################################\n",
        "#The following command will obtain the channel wavelength of deployed\n",
        "#satellite sensors (multispectral).\n",
        "#Below is a list of sensor names available for operation.\n",
        "#Copy and paste the name into the command:\n",
        "\n",
        "#\"Landsat4\"\n",
        "#\"Landsat5\"\n",
        "#\"Landsat7\"\n",
        "#\"Landsat8\"\n",
        "#\"Sentinel2a\"\n",
        "#\"Sentinel2b\"\n",
        "#\"RapidEye\n",
        "#\"WorldView2-8\"\n",
        "#\"Quickbird\"\n",
        "#\"WorldView2-4\"\n",
        "\n",
        "# Perform spectral resampling\n",
        "multi_data.sentinel2.1 <- spectralResampling(hyper_data.speclib, \"Sentinel2a\",\n",
        "                                            response_function = TRUE)\n",
        "\n",
        "############################################################################################\n",
        "\n",
        "# Plot a graph\n",
        "plot(multi_data.sentinel2.1[1])\n",
        "\n",
        "# Summary statistics\n",
        "summary(multi_data.sentinel2.1)\n",
        "\n",
        "\n",
        "# Round the values before transforming into a dataframe\n",
        "resampled_spectra <- as.data.frame(multi_data.sentinel2.1)\n",
        "\n",
        "#resampled_spectra <- round(as.data.frame(multi_data.sentinel2.1))\n",
        "\n",
        "# Add IDs back\n",
        "resampled_spectra <- cbind(ID_Unique, resampled_spectra)\n",
        "\n",
        "# Write the dataframe to a CSV file\n",
        "setwd(\"E:/OneDrive/Documentos/Doutorado/protocol_database/continents_protocol_validation/hyperspectral_data_approach/Asia/Step_1\")\n",
        "write.csv(resampled_spectra, \"resampled_spectra.csv\", row.names = FALSE)\n",
        "\n",
        "\"\"\"\n",
        "# Executing the R script\n",
        "robjects.r(r_script)"
      ],
      "metadata": {
        "id": "Qerx7jx2Epo8"
      },
      "execution_count": null,
      "outputs": []
    },
    {
      "cell_type": "code",
      "source": [
        "# Setting the working directory\n",
        "os.chdir(\"E:/OneDrive/Documentos/Doutorado/protocol_database/continents_protocol_validation/hyperspectral_data_approach/Asia/Step_1\")\n",
        "# Reading the CSV file\n",
        "\n",
        "resampled_spectra = pd.read_csv(\"resampled_spectra.csv\")\n",
        "\n",
        "print(resampled_spectra)"
      ],
      "metadata": {
        "id": "BQudsF_1E9PG"
      },
      "execution_count": null,
      "outputs": []
    },
    {
      "cell_type": "markdown",
      "source": [
        "### **Data handling for Landsat 8 spectral resolution**"
      ],
      "metadata": {
        "id": "QMV7jy3cq7PL"
      }
    },
    {
      "cell_type": "code",
      "source": [
        "# Landsat 8 spectral resolution:\n",
        "\n",
        "# B1.........Costal...........430-450 (nm)\n",
        "# B2.........Blue.............450-510 (nm)\n",
        "# B3.........Green............530-590 (nm)\n",
        "# B4.........Red..............640-670 (nm)\n",
        "# B5.........NIR..............850-880 (nm)\n",
        "# B9.........Cirrus.........1360-1380 (nm)\n",
        "# B6.........SWIR1..........1570-1650 (nm)\n",
        "# B7.........SWIR2..........2110-2290 (nm)\n",
        "\n",
        "\n",
        "# Create a dictionary of correspondence between original and new names\n",
        "corresponding_name = {\n",
        "    \"ID_Unique\": \"ID_Unique\",\n",
        "    \"Costal\": \"Costal_Landsat8_resampled\",\n",
        "    \"Blue\": \"Blue_Landsat8_resampled\",\n",
        "    \"Green\": \"Green_Landsat8_resampled\",\n",
        "    \"Red\": \"Red_Landsat8_resampled\",\n",
        "    \"NIR\": \"NIR_Landsat8_resampled\",\n",
        "    \"Cirrus\": \"Cirrus_Landsat8_resampled\",\n",
        "    \"SWIR1\": \"SWIR1_Landsat8_resampled\",\n",
        "    \"SWIR2\": \"SWIR2_Landsat8_resampled\"\n",
        "}\n",
        "\n",
        "# Rename the columns of the resampled_spectra dataframe\n",
        "resampled_spectra.columns = [corresponding_name[col] for col in resampled_spectra.columns]\n",
        "\n",
        "# Merge the dataframes\n",
        "DB_raw_resampled_spectra = pd.merge(DB_raw, resampled_spectra, on=\"ID_Unique\")"
      ],
      "metadata": {
        "id": "Rw94Jn70i2pj"
      },
      "execution_count": null,
      "outputs": []
    },
    {
      "cell_type": "code",
      "source": [
        "print(DB_raw_resampled_spectra)"
      ],
      "metadata": {
        "id": "kB_Bk3zmrQdi"
      },
      "execution_count": null,
      "outputs": []
    },
    {
      "cell_type": "code",
      "source": [
        "# Saving Dataframes to CSV\n",
        "DB_raw_resampled_spectra.to_csv(\"DB_raw_resampled_spectra.csv\", index=False)"
      ],
      "metadata": {
        "id": "XPYQGRbxrRNS"
      },
      "execution_count": null,
      "outputs": []
    },
    {
      "cell_type": "markdown",
      "source": [
        "### **Data handling for Sentinel-2A spectral resolution**"
      ],
      "metadata": {
        "id": "Ihy671sqrV2K"
      }
    },
    {
      "cell_type": "code",
      "source": [
        "# Sentinel-2A spectral resolution:\n",
        "# B1.........Aerossol.........430-450 (nm)\n",
        "# B2.........Blue.............458-523 (nm)\n",
        "# B3.........Green............543-578 (nm)\n",
        "# B4.........Red..............650-680 (nm)\n",
        "# B5.........Red Edge 1.......698-713 (nm)\n",
        "# B6.........Red Edge 2.......733-748 (nm)\n",
        "# B7.........Red Edge 3.......773-793 (nm)\n",
        "# B8.........NIR..............785-899 (nm)\n",
        "# B8A........Red Edge 4.......855-875 (nm)\n",
        "# B9.........Water Vapor......930-950 (nm)\n",
        "# B10........Cirrus...........1360-1390 (nm)\n",
        "# B11........SWIR 1...........1565-1655 (nm)\n",
        "# B12........SWIR 2...........2100-2280 (nm)\n",
        "\n",
        "# Create a dictionary of correspondence between original and new names\n",
        "corresponding_name = {\n",
        "    \"ID_Unique\": \"ID_Unique\",\n",
        "    \"SR_AV_B1\": \"Aerosol_Sentinel2A_resampled\",\n",
        "    \"SR_AV_B2\": \"Blue_Sentinel2A_resampled\",\n",
        "    \"SR_AV_B3\": \"Green_Sentinel2A_resampled\",\n",
        "    \"SR_AV_B4\": \"Red_Sentinel2A_resampled\",\n",
        "    \"SR_AV_B5\": \"Red_Edge_1_Sentinel2A_resampled\",\n",
        "    \"SR_AV_B6\": \"Red_Edge_2_Sentinel2A_resampled\",\n",
        "    \"SR_AV_B7\": \"Red_Edge_3_Sentinel2A_resampled\",\n",
        "    \"SR_AV_B8\": \"NIR_Sentinel2A_resampled\",\n",
        "    \"SR_AV_B8A\": \"Red_Edge_4_Sentinel2A_resampled\",\n",
        "    \"SR_AV_B9\": \"Water_Vapor_Sentinel2A_resampled\",\n",
        "    \"SR_AV_B10\": \"Cirrus_Sentinel2A_resampled\",\n",
        "    \"SR_AV_B11\": \"SWIR_1_Sentinel2A_resampled\",\n",
        "    \"SR_AV_B12\": \"SWIR_2_Sentinel2A_resampled\"\n",
        "}\n",
        "\n",
        "# Rename the columns of the resampled_spectra dataframe\n",
        "resampled_spectra.columns = [corresponding_name[col] for col in resampled_spectra.columns]\n",
        "\n",
        "# Merge the dataframes\n",
        "DB_raw_resampled_spectra = pd.merge(DB_raw, resampled_spectra, on=\"ID_Unique\")"
      ],
      "metadata": {
        "id": "4DD7bYDcFMd0"
      },
      "execution_count": null,
      "outputs": []
    },
    {
      "cell_type": "code",
      "source": [
        "print(DB_raw_resampled_spectra)"
      ],
      "metadata": {
        "id": "kZADYvObFTxM"
      },
      "execution_count": null,
      "outputs": []
    },
    {
      "cell_type": "code",
      "source": [
        "# Saving Dataframes to CSV\n",
        "DB_raw_resampled_spectra.to_csv(\"DB_Worldspecs_raw_Asia_resampled_spectra_10.csv\", index=False)"
      ],
      "metadata": {
        "id": "ckjhbvTkFU2M"
      },
      "execution_count": null,
      "outputs": []
    },
    {
      "cell_type": "markdown",
      "source": [
        "# **Step 2° - Filter by equations**"
      ],
      "metadata": {
        "id": "xLLw6PipG5e0"
      }
    },
    {
      "cell_type": "markdown",
      "source": [
        "## **Step 2.1 - Filter equation lignin**\n",
        "\n",
        "\n",
        "At this stage of the filtering process, the goal is to capture the mathematical relationship within the hyperspectral signature of the soil, specifically in the range of 2100 nm to 2200 nm, where a peak absorption of the 1:1 clay mineral Kaolinite is observed. To achieve this outcome, the reflectance value of the 2200 nm band is subtracted from that of the 2100 nm band, resulting in a negative numerical value.\n",
        "\n",
        "Within the setting of a soil analysis laboratory, it is possible for a soil sample to contain an excess of vegetal origin material. When collecting data from the hyperspectral signature of this sample, the Kaolinite range, where the absorption peak should occur, reflects electromagnetic energy due to the spectral characteristics of \"**lignin**\" present in the vegetal material of the respective soil sample. Consequently, the mathematical relationship will yield a positive numerical value.\n",
        "\n",
        "The image below illustrates these relationships:\n",
        "\n",
        "![figura_relacao_Kaolinite.png](data:image/png;base64,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)"
      ],
      "metadata": {
        "id": "pVQAaOtxn_1s"
      }
    },
    {
      "cell_type": "code",
      "source": [
        "import os\n",
        "import pandas as pd\n",
        "\n",
        "# Setting the working directory\n",
        "os.chdir(\"E:/OneDrive/Documentos/Doutorado/protocol_database/continents_protocol_validation/hyperspectral_data_approach/Asia/Step_1\")\n",
        "\n",
        "# Reading the CSV file\n",
        "DB_raw_resampled_spectra = pd.read_csv(\"DB_Worldspecs_raw_Asia_resampled_spectra_10.csv\", sep=',')\n",
        "\n",
        "# Exibindo o DataFrame incial\n",
        "print(DB_raw_resampled_spectra)"
      ],
      "metadata": {
        "id": "0mWtYfMJob69"
      },
      "execution_count": null,
      "outputs": []
    },
    {
      "cell_type": "code",
      "source": [
        "import numpy as np\n",
        "import pandas as pd\n",
        "from scipy.stats import linregress\n",
        "\n",
        "# Assuming DB_raw_resampled_spectra is the original DataFrame\n",
        "# First, select the relevant columns (ID_Unique and the columns from 2100 to 2200)\n",
        "selected_columns = ['ID_Unique'] + [str(i) for i in range(2100, 2201)]\n",
        "\n",
        "# Filter the DataFrame to include only the relevant columns\n",
        "df_selected = DB_raw_resampled_spectra[selected_columns]\n",
        "\n",
        "# Prepare the x values (the fixed axis from 2100 to 2200)\n",
        "x = np.arange(2100, 2201)\n",
        "\n",
        "# Lists to store the slope and intercept for each sample\n",
        "slopes = []\n",
        "intercepts = []\n",
        "\n",
        "# Perform the linear regression for each sample\n",
        "for _, row in df_selected.iterrows():\n",
        "    y = row[1:].values.astype(np.float64)  # The y values are the cells of each sample from 2100 to 2200, ensuring they are float64\n",
        "\n",
        "    # Perform the linear regression\n",
        "    slope, intercept, _, _, _ = linregress(x, y)\n",
        "\n",
        "    # Store the results\n",
        "    slopes.append(slope)\n",
        "    intercepts.append(intercept)\n",
        "\n",
        "# Create a new DataFrame with the coefficients, keeping 'Slope' as the column name\n",
        "df_coefficients = pd.DataFrame({\n",
        "    'ID_Unique': df_selected['ID_Unique'],\n",
        "    'Slope': slopes,  # Keep 'Slope' as the column name\n",
        "    'Intercept': intercepts\n",
        "})\n",
        "\n",
        "# Display the DataFrame with the coefficients\n",
        "print(df_coefficients)\n",
        "\n",
        "\n",
        "# Assuming df_coefficients is the DataFrame with the slopes and intercepts\n",
        "\n",
        "#####################################################################################################################\n",
        "\n",
        "# A positive angular coefficient indicates the presence of lignin. A critical\n",
        "# threshold of 0.00055 is set for the angular coefficient to flag outliers,\n",
        "# but this value can be adjusted based on the dataset. Analyze the spectral\n",
        "# behavior of your set, as shown in the figure of this chunk.\n",
        "\n",
        "ids_dict = {row['ID_Unique']: row['Slope'] for _, row in df_coefficients.iterrows() if row['Slope'] > 0.000055}\n",
        "\n",
        "#####################################################################################################################\n",
        "\n",
        "# Display the dictionary\n",
        "print(ids_dict)"
      ],
      "metadata": {
        "id": "VXwpqWHSWNFn"
      },
      "execution_count": null,
      "outputs": []
    },
    {
      "cell_type": "code",
      "source": [
        "DB_raw_resampled_spectra1 = DB_raw_resampled_spectra.copy()\n",
        "\n",
        "# Add a new column 'outliers_lignin' and initialize all cells with the value False\n",
        "DB_raw_resampled_spectra1.insert(1, 'outliers_lignin', False)\n",
        "\n",
        "# Update 'outliers_lignin' to True for IDs present in ids_dict\n",
        "DB_raw_resampled_spectra1.loc[DB_raw_resampled_spectra1['ID_Unique'].isin(ids_dict.keys()), 'outliers_lignin'] = True\n",
        "\n",
        "# DataFrame for True values in outliers_lignin\n",
        "outliers_samples_lignin = DB_raw_resampled_spectra1[DB_raw_resampled_spectra1['outliers_lignin'] == True]\n",
        "\n",
        "# DataFrame for False values in outliers_lignin\n",
        "DB_filter_lignin = DB_raw_resampled_spectra1[DB_raw_resampled_spectra1['outliers_lignin'] == False]\n",
        "\n",
        "# Display the updated DataFrame\n",
        "print(DB_raw_resampled_spectra1)"
      ],
      "metadata": {
        "id": "SfXofXriWWBn"
      },
      "execution_count": null,
      "outputs": []
    },
    {
      "cell_type": "code",
      "source": [
        "# Displaying the final DataFrame of the spectral signature lignin filtering stage\n",
        "\n",
        "print(DB_filter_lignin)"
      ],
      "metadata": {
        "id": "RZnIH3uzWXOJ"
      },
      "execution_count": null,
      "outputs": []
    },
    {
      "cell_type": "code",
      "source": [
        "# Checking the number of samples in the initial dataframe,\n",
        "# outliers lignin dataframe, and filtered dataframe\n",
        "\n",
        "# Print the number of samples in DB_raw_resampled_spectra\n",
        "print(\"Number of samples in DB_raw_resampled_spectra:\", DB_raw_resampled_spectra.shape[0])\n",
        "\n",
        "# Print the number of samples in outliers_samples_lignin\n",
        "print(\"Number of samples in outliers_samples_lignin:\", outliers_samples_lignin.shape[0])\n",
        "\n",
        "# Print the number of samples in DB_filter_lignin\n",
        "print(\"Number of samples in DB_filter_lignin:\", DB_filter_lignin.shape[0])"
      ],
      "metadata": {
        "id": "JIkqXkFgWerG"
      },
      "execution_count": null,
      "outputs": []
    },
    {
      "cell_type": "code",
      "source": [
        "import matplotlib.pyplot as plt\n",
        "import seaborn as sns\n",
        "\n",
        "# Function to plot outliers\n",
        "def plot_spectra(data, plot_name: str = 'spectra_plot'):\n",
        "    # Filtering columns that can be converted to integers\n",
        "\n",
        "    wavelength_min = \"420\"  # Adjust the minimum wavelength\n",
        "    wavelength_max = \"2500\"  # Adjust the maximum wavelength\n",
        "    # Select columns within the specified wavelength range and convert to a list\n",
        "    spectral_columns = outliers_samples_lignin.loc[:, wavelength_min:wavelength_max].columns.tolist()  # Soil spectra (original)\n",
        "\n",
        "    # Converting the list of column names to a list of numeric values\n",
        "    spectral_values = list(map(int, spectral_columns))\n",
        "\n",
        "    plt.figure(figsize=(11, 6))\n",
        "    for index, row in data.iterrows():\n",
        "        # Use the list of column names to index the Series\n",
        "        plt.plot(spectral_values, row[spectral_columns], label=f'Outlier {index}')\n",
        "\n",
        "    plt.xlabel('Wavelength (nm)')\n",
        "    plt.ylabel('Reflectance')\n",
        "    plt.title(f'Spectral Signatures of {plot_name}')\n",
        "\n",
        "    # Rotacionar os labels do eixo x para evitar sobreposição\n",
        "    plt.xticks(rotation=45)\n",
        "\n",
        "    # Set x-axis labels to 500, 1000, 1500, 2000, and 2500\n",
        "    plt.xticks([500, 1000, 1500, 2100, 2200, 2500])\n",
        "\n",
        "    # Setting the y-axis limits directly in the function\n",
        "    plt.ylim(0, 0.7)  # Setting limits between 0 and 0.6\n",
        "\n",
        "    plt.grid(False)\n",
        "\n",
        "    # Setting the directory and filename to save the plot\n",
        "    output_path = \"E:/OneDrive/Documentos/Doutorado/protocol_database/continents_protocol_validation/hyperspectral_data_approach/Asia/Step_2/outliers_samples_lignin_Asia.png\"\n",
        "    dpi_value = 1000\n",
        "    plt.savefig(output_path, dpi=dpi_value)\n",
        "\n",
        "    plt.show()"
      ],
      "metadata": {
        "id": "Glle9POg2aQR"
      },
      "execution_count": null,
      "outputs": []
    },
    {
      "cell_type": "code",
      "source": [
        "plot_spectra(outliers_samples_lignin, 'outliers samples lignin Asia Database')"
      ],
      "metadata": {
        "id": "G_Hp4LOW2pL3"
      },
      "execution_count": null,
      "outputs": []
    },
    {
      "cell_type": "markdown",
      "source": [
        "## **Step 2.2 - Filter equation tendency**\n",
        "\n",
        "The tendency equation is a rule that expresses the spectral signature of the soil. The spectral bands Blue, Green, Red, and NIR must necessarily follow the order of increasing values. This order is: Blue < Green < Red < NIR."
      ],
      "metadata": {
        "id": "HVGp23KkpERT"
      }
    },
    {
      "cell_type": "code",
      "source": [
        "import pandas as pd\n",
        "\n",
        "# Creating the new DataFrame\n",
        "results_equation_tendency = pd.DataFrame()\n",
        "\n",
        "# Adding the 'ID_Unique' column to the new DataFrame\n",
        "results_equation_tendency['ID_Unique'] = DB_filter_lignin['ID_Unique']\n",
        "\n",
        "############################################################################\n",
        "# Change the names of the spectral bands, Blue, Green, Red, and NIR, if\n",
        "# the names of these respective bands in the columns of your dataset\n",
        "# are different.\n",
        "\n",
        "# Adding the 'outlier_tendency' column based on the condition\n",
        "condition = (\n",
        "    (DB_filter_lignin['Blue_Sentinel2A_resampled'] < DB_filter_lignin['Green_Sentinel2A_resampled']) &\n",
        "    (DB_filter_lignin['Green_Sentinel2A_resampled'] < DB_filter_lignin['Red_Sentinel2A_resampled']) &\n",
        "    (DB_filter_lignin['Red_Sentinel2A_resampled'] < DB_filter_lignin['NIR_Sentinel2A_resampled'])\n",
        ")\n",
        "############################################################################\n",
        "\n",
        "results_equation_tendency['outlier_tendency'] = ~condition\n",
        "\n",
        "# Displaying the new DataFrame\n",
        "#print(results_equation_tendency)\n",
        "\n",
        "# Adding the 'outlier_tendency' column to the original DataFrame using merge\n",
        "DB_filter_lignin1 = pd.merge(DB_filter_lignin, results_equation_tendency[['ID_Unique', 'outlier_tendency']], on='ID_Unique')\n",
        "\n",
        "# Storing the 'outlier_tendency' column in a temporary variable\n",
        "outlier_tendency_col = DB_filter_lignin1['outlier_tendency']\n",
        "\n",
        "# Removing the 'outlier_tendency' column from the DataFrame\n",
        "DB_filter_lignin1 = DB_filter_lignin1.drop('outlier_tendency', axis=1)\n",
        "\n",
        "# Inserting the 'outlier_tendency' column at the desired position (position 2)\n",
        "DB_filter_lignin1.insert(2, 'outlier_tendency', outlier_tendency_col)\n",
        "\n",
        "# DataFrame for True values in 'outlier_tendency'\n",
        "outliers_samples_tendency = DB_filter_lignin1[DB_filter_lignin1['outlier_tendency'] == True]\n",
        "\n",
        "# DataFrame for False values in 'outlier_tendency'\n",
        "DB_filter_lignin_tendency = DB_filter_lignin1[DB_filter_lignin1['outlier_tendency'] == False]\n",
        "\n",
        "# Displaying the final DataFrame\n",
        "print(DB_filter_lignin_tendency)"
      ],
      "metadata": {
        "id": "bMyBdXylo-hs"
      },
      "execution_count": null,
      "outputs": []
    },
    {
      "cell_type": "code",
      "source": [
        "# Checking the number of samples in the initial dataframe,\n",
        "# outliers tendency dataframe, and filtered dataframe\n",
        "\n",
        "# Print the number of samples in DB_filter_lignin\n",
        "print(\"Number of samples in DB_filter_lignin:\", DB_filter_lignin.shape[0])\n",
        "\n",
        "# Print the number of samples in outliers_samples_tendency\n",
        "print(\"Number of samples in outliers_samples_tendency:\", outliers_samples_tendency.shape[0])\n",
        "\n",
        "# Print the number of samples in DB_filter_lignin_tendency\n",
        "print(\"Number of samples in DB_filter_lignin_tendency:\", DB_filter_lignin_tendency.shape[0])"
      ],
      "metadata": {
        "id": "6s_hb_3qpKEr"
      },
      "execution_count": null,
      "outputs": []
    },
    {
      "cell_type": "code",
      "source": [
        "import matplotlib.pyplot as plt\n",
        "import seaborn as sns\n",
        "\n",
        "# Function to plot outliers\n",
        "def plot_spectra(data, plot_name: str = 'spectra_plot'):\n",
        "    # Filtering columns that can be converted to integers\n",
        "\n",
        "    wavelength_min = \"420\"  # Adjust the minimum wavelength\n",
        "    wavelength_max = \"2500\"  # Adjust the maximum wavelength\n",
        "    # Select columns within the specified wavelength range and convert to a list\n",
        "    spectral_columns = outliers_samples_tendency.loc[:, wavelength_min:wavelength_max].columns.tolist()  # Soil spectra (original)\n",
        "\n",
        "    # Converting the list of column names to a list of numeric values\n",
        "    spectral_values = list(map(int, spectral_columns))\n",
        "\n",
        "    plt.figure(figsize=(11, 6))\n",
        "    for index, row in data.iterrows():\n",
        "        # Use the list of column names to index the Series\n",
        "        plt.plot(spectral_values, row[spectral_columns], label=f'Outlier {index}')\n",
        "\n",
        "    plt.xlabel('Wavelength (nm)')\n",
        "    plt.ylabel('Reflectance')\n",
        "    plt.title(f'Spectral Signatures of {plot_name}')\n",
        "\n",
        "    # Set x-axis labels to 500, 1000, 1500, 2000, and 2500\n",
        "    plt.xticks([500, 1000, 1500, 2000, 2500])\n",
        "\n",
        "    # Setting the y-axis limits directly in the function\n",
        "    plt.ylim(0, 0.6)  # Setting limits between 0 and 0.6\n",
        "\n",
        "    plt.grid(False)\n",
        "\n",
        "    # Setting the directory and filename to save the plot\n",
        "    output_path = \"E:/OneDrive/Documentos/Doutorado/protocol_database/continents_protocol_validation/hyperspectral_data_approach/Asia/Step_2/outliers_samples_tendency_Asia.png\"\n",
        "    dpi_value = 1000\n",
        "    plt.savefig(output_path, dpi=dpi_value)\n",
        "\n",
        "    plt.show()"
      ],
      "metadata": {
        "id": "rJvnGll-ELAK"
      },
      "execution_count": null,
      "outputs": []
    },
    {
      "cell_type": "code",
      "source": [
        "plot_spectra(outliers_samples_tendency, 'outliers samples tendency Asia Database')"
      ],
      "metadata": {
        "id": "J-jTGhR8Errq"
      },
      "execution_count": null,
      "outputs": []
    },
    {
      "cell_type": "code",
      "source": [
        "# Save the DB_filter_step_2 DataFrame as a CSV file\n",
        "# Setting the working directory\n",
        "os.chdir(\"E:/OneDrive/Documentos/Doutorado/protocol_database/continents_protocol_validation/hyperspectral_data_approach/Asia/Step_2\")\n",
        "\n",
        "DB_filter_lignin_tendency.to_csv(\"DB_filter_step_2_Asia_11.csv\", index=False)\n",
        "\n",
        "outliers_samples_lignin.to_csv(\"outliers_samples_lignin_Asia.csv\", index=False)\n",
        "outliers_samples_tendency.to_csv(\"outliers_samples_tendency_Asia.csv\", index=False)"
      ],
      "metadata": {
        "id": "euxQXewvpNQ8"
      },
      "execution_count": null,
      "outputs": []
    },
    {
      "cell_type": "markdown",
      "source": [
        "# **Step 3° - Filter by PCA and distance Mahalanobis**"
      ],
      "metadata": {
        "id": "PaeMkL81u3c_"
      }
    },
    {
      "cell_type": "code",
      "source": [
        "# Packages required\n",
        "import matplotlib.pyplot as plt\n",
        "from mpl_toolkits.mplot3d import Axes3D\n",
        "import numpy as np\n",
        "import pandas as pd\n",
        "from sklearn.decomposition import PCA\n",
        "from scipy.stats import chi2\n",
        "from sklearn.preprocessing import StandardScaler, MinMaxScaler\n",
        "import os"
      ],
      "metadata": {
        "id": "Y5seQqAzvA23"
      },
      "execution_count": null,
      "outputs": []
    },
    {
      "cell_type": "code",
      "source": [
        "# Setting the working directory\n",
        "os.chdir(\"E:/OneDrive/Documentos/Doutorado/protocol_database/continents_protocol_validation/hyperspectral_data_approach/Asia/Step_2\")\n",
        "\n",
        "# Importing soil spectra\n",
        "DB_filter_step_2 = pd.read_csv(\"DB_filter_step_2_Asia_11.csv\", low_memory=False)\n",
        "DB_filter_step_2 = DB_filter_step_2.set_index('ID_Unique') #Assigning row names from ID column\n",
        "\n",
        "print(DB_filter_step_2)"
      ],
      "metadata": {
        "id": "i89-iUVx66fP"
      },
      "execution_count": null,
      "outputs": []
    },
    {
      "cell_type": "code",
      "source": [
        "### spectra selection ###\n",
        "\n",
        "# Selecting specific columns where the spectrum begins and ends\n",
        "\n",
        "# Specify the range of spectral columns\n",
        "wavelength_min = \"420\" # adjust the min spectral wavelength\n",
        "wavelength_max = \"2500\" # adjust the max spectral wavelength\n",
        "\n",
        "# Select the spectral columns\n",
        "data = DB_filter_step_2.loc[:, wavelength_min:wavelength_max] # soil spectra (original)\n",
        "\n",
        "print(data)"
      ],
      "metadata": {
        "id": "XXbTWEGu-c1D"
      },
      "execution_count": null,
      "outputs": []
    },
    {
      "cell_type": "code",
      "source": [
        "### standardized data ###\n",
        "\n",
        "data_selected = data.apply(pd.to_numeric, errors='coerce')\n",
        "data_selected.fillna(data_selected.min(), inplace=True)\n",
        "\n",
        "# Standardize the data\n",
        "scaler = MinMaxScaler()\n",
        "data_standardized = pd.DataFrame(scaler.fit_transform(data), index=data.index)\n",
        "\n",
        "# Convert the standardized data back to a DataFrame\n",
        "data_standardized_df = pd.DataFrame(data_standardized)"
      ],
      "metadata": {
        "id": "2KD1PVn17C1P"
      },
      "execution_count": null,
      "outputs": []
    },
    {
      "cell_type": "code",
      "source": [
        "print(data_standardized)"
      ],
      "metadata": {
        "id": "d12pNLhTaNAk"
      },
      "execution_count": null,
      "outputs": []
    },
    {
      "cell_type": "code",
      "source": [
        "#IDENTIY OUTLIERS FUNCTION\n",
        "def identify_outliers(x, n_pc_comp=0):\n",
        "    # Standardize the data\n",
        "    scaler = StandardScaler()\n",
        "    x_scaled = scaler.fit_transform(x)\n",
        "\n",
        "    # Handle NaN values (replace with mean of each column)\n",
        "    x_scaled = np.nan_to_num(x_scaled, nan=np.nanmean(x_scaled, axis=0))\n",
        "\n",
        "    # Perform PCA\n",
        "    pca = PCA()\n",
        "    pr_scores = pca.fit_transform(x_scaled)\n",
        "    explained_variance = pca.explained_variance_ratio_\n",
        "    cpr = np.cumsum(explained_variance)\n",
        "\n",
        "    # Determine number of principal components\n",
        "    if n_pc_comp == 0:\n",
        "        n_pc_comp = np.min(np.where(cpr > 0.999)[0] + 1)\n",
        "    elif 0 < n_pc_comp < 1:\n",
        "        n_pc_comp = np.min(np.where(cpr > n_pc_comp)[0] + 1)\n",
        "\n",
        "    # Calculate mean and covariance\n",
        "    mean_pcaA = np.mean(pr_scores[:, :n_pc_comp], axis=0)\n",
        "    cov_pcaA = np.cov(pr_scores[:, :n_pc_comp], rowvar=False)\n",
        "\n",
        "    # Calculate Mahalanobis distance\n",
        "    chiMat = np.zeros((pr_scores.shape[0], 3))\n",
        "    chiMat[:, 0] = np.array([np.dot(np.dot((pr_scores[i, :n_pc_comp] - mean_pcaA), np.linalg.inv(cov_pcaA)), (pr_scores[i, :n_pc_comp] - mean_pcaA).T) for i in range(pr_scores.shape[0])])\n",
        "\n",
        "    # Fit Chi-Squared distribution\n",
        "    chiMat[:, 1] = chi2.cdf(chiMat[:, 0], df=n_pc_comp)\n",
        "\n",
        "    # Determine critical value\n",
        "    if n_pc_comp <= 10:\n",
        "        pcrit = 1 - ((0.24 - 0.003 * n_pc_comp) / np.sqrt(pr_scores.shape[0]))\n",
        "    else:\n",
        "        pcrit = 1 - ((0.25 - 0.0018 * n_pc_comp) / np.sqrt(pr_scores.shape[0]))\n",
        "    pcrit = 0.999\n",
        "    #pcrit = 0.995\n",
        "\n",
        "    # Identify outliers\n",
        "    chiMat[:, 2] = np.where(chiMat[:, 1] >= pcrit, 0, 1)\n",
        "\n",
        "    # Return the unique IDs of the outliers\n",
        "    outliers_indices = np.where(chiMat[:, 2] == 0)[0]\n",
        "    outliers_ids = x.index[outliers_indices]\n",
        "\n",
        "    return outliers_ids\n"
      ],
      "metadata": {
        "id": "UnU884tV7nwn"
      },
      "execution_count": null,
      "outputs": []
    },
    {
      "cell_type": "code",
      "source": [
        "# Calling the function and passing the original DataFrame\n",
        "outliers_ids = identify_outliers(data, n_pc_comp=0.995)\n",
        "\n",
        "# Exibir os IDs únicos dos outliers\n",
        "print(outliers_ids)"
      ],
      "metadata": {
        "id": "KCgjqr1F7tOH"
      },
      "execution_count": null,
      "outputs": []
    },
    {
      "cell_type": "code",
      "source": [
        "filtered_data_step_3 = data.drop(index=outliers_ids)\n",
        "outliers_data_step_3 = data.loc[outliers_ids]\n",
        "\n",
        "print(outliers_data_step_3)"
      ],
      "metadata": {
        "id": "QlxIPBKN8uXS"
      },
      "execution_count": null,
      "outputs": []
    },
    {
      "cell_type": "code",
      "source": [
        "import matplotlib.pyplot as plt\n",
        "import seaborn as sns\n",
        "\n",
        "# Function to plot outliers\n",
        "def plot_spectra(data,plot_name:str = 'spectra_plot', dpi=1000):\n",
        "    spectral_columns = data.columns  # Assuming spectral columns start from the 25th column\n",
        "\n",
        "\n",
        "    plt.figure(figsize=(10, 6))\n",
        "    for index, row in data.iterrows():\n",
        "        plt.plot(spectral_columns, row[spectral_columns], label=f'Outlier {index}')\n",
        "\n",
        "    plt.xlabel('Wavelength')\n",
        "    plt.ylabel('Reflectance')\n",
        "    plt.title(f'Spectral Signatures of {plot_name} ')\n",
        "    plt.xticks(spectral_columns[::150])\n",
        "    plt.grid(False)\n",
        "    plt.savefig(f'{plot_name}.png', dpi=dpi)\n",
        "    plt.show()\n",
        "\n",
        "\n",
        "def plot_3d_pca_with_outliers(data_standardized, outliers_ids, save_path=None):\n",
        "    \"\"\"\n",
        "    Plots a 3D PCA plot highlighting outliers.\n",
        "\n",
        "    Parameters:\n",
        "    - data_standardized: The standardized data (samples x features).\n",
        "    - outliers_ids: Indices of the outliers in the dataset.\n",
        "    - save_path: (Optional) Path to save the plot. If None, the plot is not saved.\n",
        "    \"\"\"\n",
        "    # Handle NaN values before applying PCA\n",
        "    data_standardized = data_standardized.fillna(data_standardized.mean()) # Fill NaN with column means\n",
        "\n",
        "    # Perform PCA\n",
        "    pca = PCA(n_components=3)\n",
        "    #pr_scores = pca.fit_transform(data_standardized)\n",
        "    pr_scores = pd.DataFrame(pca.fit_transform(data_standardized), index=data_standardized.index)\n",
        "\n",
        "    # Extracting the outliers and non-outliers\n",
        "\n",
        "    outliers = pr_scores.loc[outliers_ids]\n",
        "    non_outliers = pr_scores.drop(index=outliers_ids)\n",
        "\n",
        "    # Convert outliers and non_outliers to numpy arrays for plotting\n",
        "    outliers_array = outliers.to_numpy()\n",
        "    non_outliers_array = non_outliers.to_numpy()\n",
        "\n",
        "    # Create 3D plot\n",
        "    fig = plt.figure(figsize=(15, 13))\n",
        "    ax = fig.add_subplot(111, projection='3d')\n",
        "\n",
        "    # Plot outliers\n",
        "    ax.scatter(outliers_array[:, 0], outliers_array[:, 1], outliers_array[:, 2], c='red', marker='x', s=75, label=\"Outliers\")\n",
        "\n",
        "    # Plot non-outliers\n",
        "    ax.scatter(non_outliers_array[:, 0], non_outliers_array[:, 1], non_outliers_array[:, 2], c='gray', marker='o', alpha=0.6,\n",
        "                                                                              edgecolors='black', linewidths=0.45, s=30, label=\"Non-outliers\")\n",
        "\n",
        "    # Label axes with explained variance ratios\n",
        "    ax.set_xlabel(f'PC1 ({pca.explained_variance_ratio_[0] * 100:.2f}%)', fontweight='bold', fontsize=28, labelpad=20)\n",
        "    ax.set_ylabel(f'PC2 ({pca.explained_variance_ratio_[1] * 100:.2f}%)', fontweight='bold', fontsize=28, labelpad=28)\n",
        "    ax.set_zlabel(f'PC3 ({pca.explained_variance_ratio_[2] * 100:.2f}%)', fontweight='bold', fontsize=28, labelpad=22)\n",
        "\n",
        "    # Increase the font size of the tick labels\n",
        "    ax.tick_params(axis='both', which='major', labelsize=26, pad=2.8)  # Adjusts x and y axis\n",
        "    ax.tick_params(axis='z', which='major', labelsize=26, pad=7.5)     # Adjusts z axis\n",
        "\n",
        "    # Add legend\n",
        "    ax.legend()\n",
        "\n",
        "    # Adjust layout to prevent label cutoff\n",
        "    plt.tight_layout()\n",
        "\n",
        "    # Set the plot title\n",
        "    plt.title('3D PCA plot with Outliers Asia', fontweight='bold', fontsize=20, y=1.05)\n",
        "\n",
        "    # Save the figure if a path is provided\n",
        "    if save_path:\n",
        "        plt.savefig(save_path, dpi=1200)\n",
        "\n",
        "    # Show plot\n",
        "    plt.show()\n"
      ],
      "metadata": {
        "id": "IL-PFaWf80Jw"
      },
      "execution_count": null,
      "outputs": []
    },
    {
      "cell_type": "code",
      "source": [
        "# Plots Visualization\n",
        "\n",
        "# Setting the working directory\n",
        "os.chdir(\"E:/OneDrive/Documentos/Doutorado/protocol_database/continents_protocol_validation/hyperspectral_data_approach/Asia/Step_3\")\n",
        "\n",
        "plot_spectra(filtered_data_step_3, 'filtered data step 3 Asia')\n",
        "plot_spectra(outliers_data_step_3, 'Outliers Asia')\n",
        "plot_spectra(data, 'all data Asia')\n",
        "plot_3d_pca_with_outliers(data, outliers_ids, save_path='3d_pca_outliers')"
      ],
      "metadata": {
        "id": "OZYT5tCW84XI"
      },
      "execution_count": null,
      "outputs": []
    },
    {
      "cell_type": "code",
      "source": [
        "print(outliers_data_step_3)"
      ],
      "metadata": {
        "id": "YJFd7GuiNhzW"
      },
      "execution_count": null,
      "outputs": []
    },
    {
      "cell_type": "code",
      "source": [
        "outliers_data_step_3 = outliers_data_step_3.reset_index()\n",
        "\n",
        "IDs_to_filter = outliers_data_step_3['ID_Unique'].tolist()\n",
        "\n",
        "DB_filter_step_3 = DB_filter_step_2.reset_index()\n",
        "\n",
        "# Add a new column \"outliers_step_3\" filled with False\n",
        "DB_filter_step_3.insert(1, \"outliers_step_3\", False)\n",
        "\n",
        "# Update the values to True where ID_Unique is in the list IDs_to_filter\n",
        "DB_filter_step_3.loc[DB_filter_step_3['ID_Unique'].isin(IDs_to_filter), 'outliers_step_3'] = True\n",
        "\n",
        "# Create a new DataFrame with only the rows where outliers_step_3 is True\n",
        "outliers_samples_step_3 = DB_filter_step_3[DB_filter_step_3['outliers_step_3'] == True].copy()\n",
        "\n",
        "# Remove the samples where outliers_step_3 is True\n",
        "DB_filter_step_3 = DB_filter_step_3[DB_filter_step_3['outliers_step_3'] == False].copy()\n",
        "\n",
        "print(outliers_samples_step_3)"
      ],
      "metadata": {
        "id": "TYgANWBE87jA"
      },
      "execution_count": null,
      "outputs": []
    },
    {
      "cell_type": "code",
      "source": [
        "# Checking the number of samples in the initial dataframe,\n",
        "# outliers_samples_step_3 dataframe, and filtered dataframe\n",
        "\n",
        "# Print the number of samples in DB_filter_step_2\n",
        "print(\"Number of samples in DB_filter_step_2:\", DB_filter_step_2.shape[0])\n",
        "\n",
        "# Print the number of samples in outliers_step_3\n",
        "print(\"Number of samples in outliers_samples_step_3:\", outliers_samples_step_3.shape[0])\n",
        "\n",
        "# Print the number of samples in DB_filter_step_3\n",
        "print(\"Number of samples in DB_filter_step_3:\", DB_filter_step_3.shape[0])"
      ],
      "metadata": {
        "id": "RMqQcIGG9NRm"
      },
      "execution_count": null,
      "outputs": []
    },
    {
      "cell_type": "code",
      "source": [
        "# Setting the working directory\n",
        "os.chdir(\"E:/OneDrive/Documentos/Doutorado/protocol_database/continents_protocol_validation/hyperspectral_data_approach/Asia/Step_3\")\n",
        "\n",
        "# Save the outliers_samples_3 DataFrame as a CSV file\n",
        "outliers_samples_step_3.to_csv(\"outliers_samples_step_3_Asia.csv\", index=False)\n",
        "\n",
        "# Save the DB_filter_3 DataFrame as a CSV file\n",
        "DB_filter_step_3.to_csv(\"DB_filter_step_3_Asia_12.csv\", index=False)"
      ],
      "metadata": {
        "id": "EjQfz5Yq9kbQ"
      },
      "execution_count": null,
      "outputs": []
    },
    {
      "cell_type": "markdown",
      "source": [
        "## **Visual analysis of the outiliers determined by Step 3°**\n",
        "\n",
        "This sub-step is not mandatory for completing the entire protocol, but we strongly recommend that the spectral signatures of samples identified as outliers be visually analyzed. This analysis allows the pedometrist to understand the nature of the outlier spectrum and why the data might be inconsistent or incorrect. Examples include:\n",
        "\n",
        "- Miscalibration of the Vis-NIR-SWIR sensor, resulting in noise in the spectral signature.\n",
        "- Contamination of the soil sample with other materials.\n",
        "- Improper preparation of the soil sample.\n",
        "- Collection of the spectral data from a target other than the soil sample.\n",
        "\n",
        "By understanding the nature of the error, the pedometrist can intervene at the source, preventing similar errors from occurring in the future.\n",
        "However, it is important to note that the spectral data may be correct. The combination of PCA and Mahalanobis distance may flag an outlier that actually corresponds to a soil with distinct spectral behavior, which is not well-represented in the dataset. Therefore, if you identify a sample whose spectral behavior matches all the correct spectral characteristics of a soil in the \"outliers_samples_step_3\" dataset, we recommend including this sample's data in the \"DB_filter_step_3\" dataset.\n",
        "\n",
        "The following interactive plots of the hyperspectral data from soil samples will be generated for visual analysis."
      ],
      "metadata": {
        "id": "43pW8aYm125B"
      }
    },
    {
      "cell_type": "code",
      "source": [
        "# Packages required\n",
        "import os\n",
        "import pandas as pd\n",
        "import numpy as np\n",
        "import plotly.express as px"
      ],
      "metadata": {
        "id": "lmIznPTy2C1o"
      },
      "execution_count": null,
      "outputs": []
    },
    {
      "cell_type": "code",
      "source": [
        "print(outliers_samples_step_3)"
      ],
      "metadata": {
        "id": "jJSefgi78cag"
      },
      "execution_count": null,
      "outputs": []
    },
    {
      "cell_type": "code",
      "source": [
        "# Define the indices of the columns you want to select\n",
        "col_index_min = 109  # Index of the first spectral column\n",
        "col_index_max = 2189  # Index of the last spectral column\n",
        "\n",
        "# Select the ID column by name and the spectral columns by indices\n",
        "selected_columns = [outliers_samples_step_3.columns.get_loc('ID_Unique')] + list(range(col_index_min, col_index_max + 1))\n",
        "\n",
        "# Create a new DataFrame with the desired columns\n",
        "DB_graphic = outliers_samples_step_3.iloc[:, selected_columns].copy()\n",
        "\n",
        "print(DB_graphic)"
      ],
      "metadata": {
        "id": "QS4bt6Km8oqP"
      },
      "execution_count": null,
      "outputs": []
    },
    {
      "cell_type": "code",
      "source": [
        "# Split the dataframe into smaller dataframes based on rows, in this case 50 rows\n",
        "dfs = np.array_split(DB_graphic, np.ceil(len(DB_graphic) / 100))\n",
        "\n",
        "# Create the line chart using Plotly Express for each smaller dataframe\n",
        "for i, df in enumerate(dfs):\n",
        "    # Reshape the dataframe\n",
        "    df_melt = df.melt(id_vars=df.columns[0], value_vars=df.columns[1:])\n",
        "\n",
        "    fig = px.line(df_melt, x='variable', y='value', color=df.columns[0],\n",
        "                  title=f'Original Spectra {i+1}', labels={'variable': 'Wavelength (nm)', 'value': 'Reflectance Factor'})\n",
        "\n",
        "    # Customize the chart layout\n",
        "    fig.update_layout(\n",
        "        xaxis_title='Wavelength (nm)',\n",
        "        yaxis_title='Reflectance Factor',\n",
        "    )\n",
        "\n",
        "    # Build the HTML file name based on the chart\n",
        "    html_file_name = os.path.join('G:/OneDrive/Documentos/Doutorado/protocol_database/protocol_update/Step_3', f'Original_Spectra_Plotly_{i+1}.html')\n",
        "\n",
        "    # Save the interactive chart to an HTML file\n",
        "    fig.write_html(html_file_name)\n",
        "\n",
        "    # Display the interactive chart\n",
        "    fig.show()"
      ],
      "metadata": {
        "id": "KHUNBjnn-_SR"
      },
      "execution_count": null,
      "outputs": []
    },
    {
      "cell_type": "markdown",
      "source": [
        "# **Step 4° - Filter by Soil Line**"
      ],
      "metadata": {
        "id": "sBZiuz6M93QW"
      }
    },
    {
      "cell_type": "code",
      "source": [
        "# Packages required\n",
        "import os\n",
        "import statsmodels.api as sm\n",
        "import numpy as np\n",
        "import pandas as pd\n",
        "from plotnine import *\n",
        "from plotnine import ggsave\n",
        "import scipy.stats as stats\n",
        "from plotnine import ggplot"
      ],
      "metadata": {
        "id": "4pHaPhQA-Kkn"
      },
      "execution_count": null,
      "outputs": []
    },
    {
      "cell_type": "code",
      "source": [
        "### Soil line on convolved spectra ###\n",
        "\n",
        "# Set the working directory\n",
        "os.chdir(\"E:/OneDrive/Documentos/Doutorado/protocol_database/continents_protocol_validation/hyperspectral_data_approach/Asia/Step_3\")\n",
        "\n",
        "# Read the CSV file\n",
        "DB_filter_step_3 = pd.read_csv(\"DB_filter_step_3_Asia_12.csv\")\n",
        "\n",
        "# Assigning to a variable for clarity\n",
        "DB = DB_filter_step_3\n",
        "\n",
        "print(DB_filter_step_3)"
      ],
      "metadata": {
        "id": "vN32n1N9_Pex"
      },
      "execution_count": null,
      "outputs": []
    },
    {
      "cell_type": "code",
      "source": [
        "### Cutting line determination ###\n",
        "\n",
        "# Specify the X and Y columns\n",
        "column_x_conv = DB['Red_Sentinel2A_resampled']\n",
        "column_y_conv = DB['NIR_Sentinel2A_resampled']\n",
        "\n",
        "# Create a linear regression model\n",
        "X = sm.add_constant(column_x_conv)  # Add the constant for the intercept term\n",
        "model = sm.OLS(column_y_conv, X).fit()\n",
        "\n",
        "# Calculate predicted values\n",
        "predictions = model.predict(X)\n",
        "\n",
        "# Calculate the standard deviation of residuals\n",
        "residuals = model.resid\n",
        "std_residuals = np.std(residuals)\n",
        "\n",
        "# Confidence level (e.g., 98%)\n",
        "confidence_level = 0.99\n",
        "\n",
        "# Quantile of the t distribution\n",
        "quantile_t = stats.t.ppf((1 + confidence_level) / 2, df=len(residuals) - 2)\n",
        "\n",
        "# Calculate upper and lower confidence limits\n",
        "upper_limit_NIR_resam = predictions + quantile_t * (std_residuals * 1.50)\n",
        "lower_limit_NIR_resam = predictions - quantile_t * (std_residuals * 1.50)\n",
        "\n",
        "# Regression coefficients\n",
        "intercept, coef_x = model.params\n",
        "\n",
        "# Standard error of coefficients\n",
        "std_error = model.bse\n",
        "\n",
        "# T-value and p-value of coefficients\n",
        "t_value = model.tvalues\n",
        "p_value = model.pvalues\n",
        "\n",
        "# Coefficient of determination (R²)\n",
        "r_squared_convolved = model.rsquared\n",
        "\n",
        "# Fit a linear regression model for the upper limit\n",
        "model_upper_limit = sm.OLS(upper_limit_NIR_resam, X).fit()\n",
        "\n",
        "# Fit a linear regression model for the lower limit\n",
        "model_lower_limit = sm.OLS(lower_limit_NIR_resam, X).fit()\n",
        "\n",
        "# Coefficients of intercept and slope for the upper limit\n",
        "coef_intercept_upper, coef_slope_upper = model_upper_limit.params\n",
        "\n",
        "# Coefficients of intercept and slope for the lower limit\n",
        "coef_intercept_lower, coef_slope_lower = model_lower_limit.params\n",
        "\n",
        "# Display coefficients\n",
        "print(\"Coefficients for Upper Limit:\")\n",
        "print(\"Intercept (β0):\", round(coef_intercept_upper, 4))\n",
        "print(\"Slope (β1):\", round(coef_slope_upper, 4))\n",
        "\n",
        "print(\"\\nCoefficients for Lower Limit:\")\n",
        "print(\"Intercept (β0):\", round(coef_intercept_lower, 4))\n",
        "print(\"Slope (β1):\", round(coef_slope_lower, 4))"
      ],
      "metadata": {
        "id": "mmleqpx4_aGH"
      },
      "execution_count": null,
      "outputs": []
    },
    {
      "cell_type": "code",
      "source": [
        "### plot the Soil line by convolved data ###\n",
        "\n",
        "# Desired width and height of the plot\n",
        "plot_width = 9\n",
        "plot_height = 6\n",
        "\n",
        "soil_line_plot = (\n",
        "    ggplot(DB, aes(x='Red_Sentinel2A_resampled', y='NIR_Sentinel2A_resampled')) +\n",
        "    theme_classic() +\n",
        "    geom_point(shape='o', color= 'black', fill= \"#E49247\", alpha=1, size=1.5, stroke=0.2) + # Data points with black contour +  # Data points\n",
        "    geom_smooth(method='lm', se=False, color='#000000', size=1.2) +  # Trend line\n",
        "    geom_line(aes(y=upper_limit_NIR_resam), color='#E41A1C', size=1) +  # Upper confidence interval line\n",
        "    geom_line(aes(y=lower_limit_NIR_resam), color='#E41A1C', size=1) +  # Lower confidence interval line\n",
        "\n",
        "    annotate('text', x=0.11, y=0.62, label=\"β upper limit: {:.3f}\".format(round(coef_intercept_upper, 3)),\n",
        "             family=\"Arial\", size=10)+\n",
        "    annotate('text', x=0.11, y=0.58, label=\"β lower limit: {:.3f}\".format(round(coef_intercept_lower, 3)),\n",
        "             family=\"Arial\", size=10)+\n",
        "    annotate('text', x=0.11, y=0.54, label=\"R² model: {:.3f}\".format(round(r_squared_convolved, 3)),\n",
        "             family=\"Arial\", size=10)+\n",
        "    annotate('text', x=0.11, y=0.50, label=\"α: {:.3f}\".format(round(coef_x, 3)),\n",
        "             family=\"Arial\", size=10)+\n",
        "\n",
        "    labs(x=\"Resampled Red (650-680 nm)\", y=\"Resampled NIR (785-899 nm)\") +\n",
        "    expand_limits(x=0, y=0) +  # Force the plot to show the origin (0,0)\n",
        "    scale_y_continuous(limits=[0, 0.8]) +\n",
        "    scale_x_continuous(limits=[0, 0.8]) +\n",
        "    theme(\n",
        "        axis_title_x=element_text(margin={'t': 10}, family=\"Arial\", size=12, face=\"bold\"),\n",
        "        axis_title_y=element_text(margin={'r': 10}, family=\"Arial\", size=12, face=\"bold\"),\n",
        "        axis_text_y=element_text(family=\"Arial\", size=10),\n",
        "        axis_text_x=element_text(family=\"Arial\", size=10)\n",
        "    )\n",
        ")\n",
        "\n",
        "\n",
        "# Display the plot\n",
        "print(soil_line_plot)\n",
        "\n",
        "dpi_value = 1000\n",
        "\n",
        "# Setting the working directory\n",
        "output_path = \"E:/OneDrive/Documentos/Doutorado/protocol_database/continents_protocol_validation/hyperspectral_data_approach/Asia/Step_4/soil_line_plot_Asia.png\"\n",
        "soil_line_plot.save(output_path, width=plot_width, height=plot_height, dpi=dpi_value)\n",
        "\n",
        "soil_line_plot"
      ],
      "metadata": {
        "id": "9SRGiz8t_lz_"
      },
      "execution_count": null,
      "outputs": []
    },
    {
      "cell_type": "code",
      "source": [
        "## After Soil Line analysis, filtering the samples in the database ###\n",
        "\n",
        "# Create a subset of samples that are ABOVE the upper_limit_NIR line\n",
        "samples_upper_limit = DB[DB['NIR_Sentinel2A_resampled'] > upper_limit_NIR_resam]\n",
        "\n",
        "# Create a subset of samples that are BELOW the lower_limit_NIR line\n",
        "samples_lower_limit = DB[DB['NIR_Sentinel2A_resampled'] < lower_limit_NIR_resam]\n",
        "\n",
        "# Concatenate the dataframes samples_upper_limit and samples_lower_limit\n",
        "outliers_samples = pd.concat([samples_upper_limit, samples_lower_limit])\n",
        "\n",
        "# Merge the DataFrames based on the ID_Unique column and keep only the columns from the DB DataFrame\n",
        "outliers_samples_step_4 = pd.merge(outliers_samples[['ID_Unique']], DB, on='ID_Unique', how='inner')\n",
        "\n",
        "IDs_to_filter = outliers_samples['ID_Unique'].tolist()\n",
        "\n",
        "DB_filter_step_4 = DB_filter_step_3\n",
        "\n",
        "# Add a new column \"outliers_step_4\" filled with False\n",
        "DB_filter_step_4.insert(1, \"outliers_step_4\", False)\n",
        "\n",
        "# Update the values to True where ID_Unique is in the list IDs_to_filter\n",
        "DB_filter_step_4.loc[DB_filter_step_4['ID_Unique'].isin(IDs_to_filter), 'outliers_step_4'] = True\n",
        "\n",
        "# Create a new DataFrame with only the rows where outliers_step_4 is True\n",
        "outliers_samples_step_4 = DB_filter_step_4[DB_filter_step_4['outliers_step_4'] == True].copy()\n",
        "\n",
        "# Delete the samples where outliers_step_3 is True\n",
        "DB_filter_step_4 = DB_filter_step_4[DB_filter_step_4['outliers_step_4'] == False].copy()\n",
        "\n",
        "print(outliers_samples_step_4)"
      ],
      "metadata": {
        "id": "Yp4IfsPU_7yx"
      },
      "execution_count": null,
      "outputs": []
    },
    {
      "cell_type": "code",
      "source": [
        "# Checking the number of samples in the initial dataframe of the attribute that was analyzed,\n",
        "# outliers outliers_samples_step_4, and DB_filter_step_4 dataframe\n",
        "\n",
        "# Print the number of samples in DB_filter_step_3\n",
        "print(\"Number of samples in DB_filter_step_3:\", DB_filter_step_3.shape[0])\n",
        "\n",
        "# Print the number of samples in outliers_samples_step_4\n",
        "print(\"Number of samples in outliers_samples_step_4:\", outliers_samples_step_4.shape[0])\n",
        "\n",
        "# Print the number of samples in DB_filter_step_4\n",
        "print(\"Number of samples in DB_filter_step_4:\", DB_filter_step_4.shape[0])"
      ],
      "metadata": {
        "id": "j52kT6UpAAd5"
      },
      "execution_count": null,
      "outputs": []
    },
    {
      "cell_type": "code",
      "source": [
        "# Save the DB_filter_step_4 and outliers_samples_step_4 DataFrame as a CSV file\n",
        "# Setting the working directory\n",
        "os.chdir(\"E:/OneDrive/Documentos/Doutorado/protocol_database/continents_protocol_validation/hyperspectral_data_approach/Asia/Step_4\")\n",
        "\n",
        "outliers_samples_step_4.to_csv(\"outliers_samples_step_4_Asia.csv\", index=False)\n",
        "\n",
        "DB_filter_step_4.to_csv(\"DB_filter_step_4_Asia_13.csv\", index=False)"
      ],
      "metadata": {
        "id": "igpJ2EbzAFuR"
      },
      "execution_count": null,
      "outputs": []
    },
    {
      "cell_type": "markdown",
      "source": [
        "# **Step 5° - CIFOD Filter**"
      ],
      "metadata": {
        "id": "_6shgha0ASFY"
      }
    },
    {
      "cell_type": "markdown",
      "source": [
        "## URSSA module 1: Importing and pre-processing data"
      ],
      "metadata": {
        "id": "eNcXebwYA-qR"
      }
    },
    {
      "cell_type": "code",
      "source": [
        "# Packages required\n",
        "import os\n",
        "import pandas as pd\n",
        "import numpy as np\n",
        "from scipy import interpolate\n",
        "import matplotlib.pyplot as plt\n",
        "from sklearn.cluster import KMeans\n",
        "from sklearn.manifold import MDS\n",
        "from sklearn.ensemble import RandomForestClassifier\n",
        "from sklearn.metrics import pairwise_distances\n",
        "from scipy.interpolate import interp1d\n",
        "from plotnine import ggplot"
      ],
      "metadata": {
        "id": "cVSoMaaKBBaH"
      },
      "execution_count": null,
      "outputs": []
    },
    {
      "cell_type": "code",
      "source": [
        "# Set the working directory\n",
        "os.chdir(\"E:/OneDrive/Documentos/Doutorado/protocol_database/continents_protocol_validation/hyperspectral_data_approach/Europe/Step_4\")\n",
        "\n",
        "# Importing data (soil attributes + spectra)\n",
        "Data_all = pd.read_csv(\"DB_filter_step_4_Europe_13.csv\")\n",
        "Data_all = Data_all.set_index('ID_Unique') #Assigning row names from ID column"
      ],
      "metadata": {
        "id": "8s1W9xFKBL1w"
      },
      "execution_count": null,
      "outputs": []
    },
    {
      "cell_type": "code",
      "source": [
        "# Initial Setting up\n",
        "\n",
        "Data = Data_all\n",
        "\n",
        "wavelength_min = \"420\" # adjust the min spectral wavelength\n",
        "wavelength_max = \"2500\" # adjust the max spectral wavelength\n",
        "Spectra_original = Data.loc[:, wavelength_min:wavelength_max] # soil spectra (original)\n",
        "\n",
        "# Resampling the spectral resolution of soil spectra (it decreases the processing time)\n",
        "new_resolution = 10  # Define the new spectral resolution (in nanometers)\n",
        "wavelength_min = int(wavelength_min)\n",
        "wavelength_max = int(wavelength_max)\n",
        "\n",
        "# Create the new wavelength array with the correct endpoint\n",
        "wavelength_resampled = np.arange(wavelength_min, wavelength_max + new_resolution, new_resolution)\n",
        "\n",
        "def resample_spectrum(x):\n",
        "    f = interp1d(list(map(int, Spectra_original.columns)), x, kind='cubic')\n",
        "    return pd.Series(f(wavelength_resampled))\n",
        "\n",
        "spectra_resampled = Spectra_original.apply(resample_spectrum, axis=1)\n",
        "\n",
        "# Get the new column names from the 'wavelength_resampled' ndarray.\n",
        "new_names = list(wavelength_resampled)\n",
        "\n",
        "# Assign these new names to the columns of the 'spectra_resampled' DataFrame.\n",
        "spectra_resampled.columns = new_names\n",
        "\n",
        "# Plotting of the first ten original and resampled spectra\n",
        "plt.figure()\n",
        "plt.plot(list(map(int, Spectra_original.columns)), Spectra_original.iloc[:10].T.values)\n",
        "plt.title('Original Spectra')\n",
        "plt.xlabel('Wavelength (nm)')\n",
        "plt.ylabel('Reflectance Factor')\n",
        "\n",
        "plt.figure()\n",
        "plt.plot(wavelength_resampled, spectra_resampled.iloc[:10].T.values)\n",
        "plt.title('Resampled Spectra')\n",
        "plt.xlabel('Wavelength (nm)')\n",
        "plt.ylabel('Reflectance Factor')\n",
        "\n",
        "# Merge DataFrames using pandas.merge\n",
        "SpectraResampled = spectra_resampled\n",
        "\n",
        "# Remove the current index (if any) and assign the column name to 'ID_Unique'\n",
        "SpectraResampled.reset_index(inplace=True)\n",
        "SpectraResampled.rename(columns={'index': 'ID_Unique'}, inplace=True)\n",
        "\n",
        "# Convert the DataFrame to a Pandas DataFrame\n",
        "SpectraResampled = pd.DataFrame(SpectraResampled)\n",
        "print(SpectraResampled)\n",
        "\n",
        "# Selecting the columns of interest\n",
        "dataset_model = SpectraResampled.loc[:, wavelength_min:wavelength_max]\n",
        "\n",
        "# Adding the 'ID_Unique' column\n",
        "dataset_model = pd.concat([SpectraResampled['ID_Unique'], dataset_model], axis=1)\n",
        "\n",
        "# Setting 'ID_Unique' as the index\n",
        "SpectraResampled = SpectraResampled.set_index('ID_Unique')\n",
        "dataset_model = dataset_model.set_index('ID_Unique')"
      ],
      "metadata": {
        "id": "gqtEF-AkBVEv"
      },
      "execution_count": null,
      "outputs": []
    },
    {
      "cell_type": "code",
      "source": [
        "print(dataset_model)"
      ],
      "metadata": {
        "id": "0RCvf3lLBewf"
      },
      "execution_count": null,
      "outputs": []
    },
    {
      "cell_type": "markdown",
      "source": [
        "## URSSA module 2: Unsupervised spectral clustering of samples\n"
      ],
      "metadata": {
        "id": "R3_x2linBwZh"
      }
    },
    {
      "cell_type": "markdown",
      "source": [
        "The script can be executed in two ways: hosted on a personal machine or through the Google API."
      ],
      "metadata": {
        "id": "RyiEYXAoCN1o"
      }
    },
    {
      "cell_type": "markdown",
      "source": [
        "### ***API Google***"
      ],
      "metadata": {
        "id": "oN9Nql3DCcXw"
      }
    },
    {
      "cell_type": "code",
      "source": [
        "import rpy2.robjects as robjects\n",
        "from rpy2.robjects.packages import importr\n",
        "\n",
        "utils = importr('utils')\n",
        "utils.install_packages('randomUniformForest')\n",
        "utils.install_packages('magrittr')\n",
        "utils.install_packages('dplyr')\n",
        "utils.install_packages('tidyverse')"
      ],
      "metadata": {
        "id": "UEEWPu50B0no"
      },
      "execution_count": null,
      "outputs": []
    },
    {
      "cell_type": "code",
      "source": [
        "### MODULE 2: Unsupervised spectral clustering of samples ####\n",
        "\n",
        "## 1) Unsupervised randomUniformForest classification,\n",
        "## 2) Calculating spectral proximity from URF,\n",
        "## 3) Multidimensional Scaling (MDS),\n",
        "## 4) Clustering samples (K-means)\n",
        "\n",
        "\n",
        "import rpy2.robjects as robjects\n",
        "from rpy2.robjects.packages import importr\n",
        "\n",
        "\n",
        "# Import the R packages\n",
        "randomUniformForest = importr('randomUniformForest')\n",
        "magrittr = importr('magrittr')\n",
        "dplyr = importr('dplyr')\n",
        "tidyverse = importr('tidyverse')\n",
        "\n",
        "\n",
        "dataset_model.to_csv(\"dataset_model.csv\", index=True)\n",
        "\n",
        "# Define the R script\n",
        "r_script = \"\"\"\n",
        "\n",
        "setwd(\"/content\")\n",
        "dataset_model <- read.csv(\"dataset_model.csv\", header = TRUE, sep = \",\", dec = \".\", na.strings = \"NA\", check.names = FALSE)\n",
        "dataset_model <- dataset_model %>% remove_rownames %>% column_to_rownames(var=\"ID_Unique\")\n",
        "\n",
        "wavelength_min <- \"350\"\n",
        "wavelength_max <- \"2500\"\n",
        "\n",
        "results <- unsupervised.randomUniformForest(object = dataset_model %>% select(wavelength_min:wavelength_max), # select spectra\n",
        "                                              baseModel = \"proximity\", # c(\"proximity\", \"proximityThenDistance\", \"importanceThenDistance\")\n",
        "                                              endModel = \"MDSkMeans\", # c(\"MDSkMeans\", \"MDShClust\", \"MDS\", \"SpectralkMeans\")\n",
        "                                              endModelMetric = NULL,\n",
        "                                              samplingMethod = \"with bootstrap\", # c(\"uniform univariate sampling\",\"uniform multivariate sampling\", \"with bootstrap\")\n",
        "                                              MDSmetric = \"metricMDS\", # c(\"metricMDS\", \"nonMetricMDS\")\n",
        "                                              proximityMatrix = NULL,\n",
        "                                              sparseProximities = FALSE,\n",
        "                                              outliersFilter = FALSE,\n",
        "                                              Xtest = NULL,\n",
        "                                              predObject = NULL,\n",
        "                                              metricDimension = 2,\n",
        "                                              coordinates = c(1,2),\n",
        "                                              bootstrapReplicates = 100,\n",
        "                                              clusters = NULL,\n",
        "                                              maxIters = NULL,\n",
        "                                              importanceObject = NULL,\n",
        "                                              maxInteractions = 2,\n",
        "                                              reduceClusters = FALSE,\n",
        "                                              maxClusters = 10,\n",
        "                                              mapAndReduce = FALSE,\n",
        "                                              OOB = FALSE,\n",
        "                                              subset = NULL,\n",
        "                                              seed = 2014,\n",
        "                                              uthreads = \"auto\")\n",
        "\n",
        "results_final_R <- data.frame(\"ID_Unique\" = rownames(dataset_model),\n",
        "                              \"cluster\" = results$unsupervisedModel$cluster,\n",
        "                              dataset_model)\n",
        "\n",
        "write.table(results_final_R, \"results_final_R.csv\", sep = \",\", dec = \".\",row.names = FALSE)\n",
        "\n",
        "\"\"\"\n",
        "\n",
        "# Execute the R script\n",
        "robjects.r(r_script)\n"
      ],
      "metadata": {
        "id": "Qvp29D4NDF34"
      },
      "execution_count": null,
      "outputs": []
    },
    {
      "cell_type": "markdown",
      "source": [
        "### ***Personal machine - local execution environment:***\n",
        "  Attention, you must indicate the directory path where R is installed. The \"randomUniformForest\" library requires version 4.3.2. And within the script in R language it is necessary to indicate the path to the directory where the libraries are installed."
      ],
      "metadata": {
        "id": "Dgecr7YTDKmP"
      }
    },
    {
      "cell_type": "code",
      "source": [
        "### MODULE 2: Unsupervised spectral clustering of samples ####\n",
        "\n",
        "## 1) Unsupervised randomUniformForest classification,\n",
        "## 2) Calculating spectral proximity from URF,\n",
        "## 3) Multidimensional Scaling (MDS),\n",
        "## 4) Clustering samples (K-means)\n",
        "\n",
        "############################################################################################\n",
        "#  enter the directory of the R language installed on the machine\n",
        "os.environ['R_HOME'] = 'C:/Program Files/R/R-4.3.2'\n",
        "############################################################################################\n",
        "\n",
        "import rpy2.robjects as robjects\n",
        "from rpy2.robjects.packages import importr\n",
        "\n",
        "# Saving Dataframes to CSV\n",
        "\n",
        "os.chdir(\"E:/OneDrive/Documentos/Doutorado/protocol_database/continents_protocol_validation/hyperspectral_data_approach/Europe/Step_5\")\n",
        "dataset_model.to_csv(\"dataset_model.csv\", index=True)\n",
        "\n",
        "# Define the R script\n",
        "r_script = \"\"\"\n",
        "\n",
        "############################################################################################\n",
        "## R: Directory path to the required hsdar package libraries##                             #\n",
        "#                                                                                          #\n",
        " .libPaths(\"E:/OneDrive/Documentos/Doutorado/protocol_database/libraires\")                 #\n",
        "#                                                                                          #\n",
        "############################################################################################\n",
        "\n",
        "# Load the doParallel library\n",
        "library(doParallel)\n",
        "\n",
        "# Configure parallel cluster (can use desired number of cores)\n",
        "cl <- makeCluster(16)\n",
        "registerDoParallel(cl)\n",
        "\n",
        "library(dplyr)\n",
        "library(tidyverse)\n",
        "library(randomUniformForest)\n",
        "\n",
        "############################################################################################\n",
        "\n",
        "setwd(\"E:/OneDrive/Documentos/Doutorado/protocol_database/continents_protocol_validation/hyperspectral_data_approach/Europe/Step_5\")\n",
        "\n",
        "############################################################################################\n",
        "\n",
        "dataset_model <- read.csv(\"dataset_model.csv\", header = TRUE, sep = \",\", dec = \".\", na.strings = \"NA\", check.names = FALSE)\n",
        "dataset_model <- dataset_model %>% remove_rownames %>% column_to_rownames(var=\"ID_Unique\")\n",
        "\n",
        "wavelength_min <- \"420\"\n",
        "wavelength_max <- \"2500\"\n",
        "\n",
        "results <- unsupervised.randomUniformForest(object = dataset_model %>% select(wavelength_min:wavelength_max), # select spectra\n",
        "                                              baseModel = \"proximity\", # c(\"proximity\", \"proximityThenDistance\", \"importanceThenDistance\")\n",
        "                                              endModel = \"MDSkMeans\", # c(\"MDSkMeans\", \"MDShClust\", \"MDS\", \"SpectralkMeans\")\n",
        "                                              endModelMetric = NULL,\n",
        "                                              samplingMethod = \"with bootstrap\", # c(\"uniform univariate sampling\",\"uniform multivariate sampling\", \"with bootstrap\")\n",
        "                                              MDSmetric = \"metricMDS\", # c(\"metricMDS\", \"nonMetricMDS\")\n",
        "                                              proximityMatrix = NULL,\n",
        "                                              sparseProximities = FALSE,\n",
        "                                              outliersFilter = FALSE,\n",
        "                                              Xtest = NULL,\n",
        "                                              predObject = NULL,\n",
        "                                              metricDimension = 2,\n",
        "                                              coordinates = c(1,2),\n",
        "                                              bootstrapReplicates = 100,\n",
        "                                              clusters = NULL,\n",
        "                                              maxIters = NULL,\n",
        "                                              importanceObject = NULL,\n",
        "                                              maxInteractions = 2,\n",
        "                                              reduceClusters = FALSE,\n",
        "                                              maxClusters = 10,\n",
        "                                              mapAndReduce = FALSE,\n",
        "                                              OOB = FALSE,\n",
        "                                              subset = NULL,\n",
        "                                              seed = 2014,\n",
        "                                              uthreads = \"auto\")\n",
        "\n",
        "results_final_R <- data.frame(\"ID_Unique\" = rownames(dataset_model),\n",
        "                              \"cluster\" = results$unsupervisedModel$cluster,\n",
        "                              dataset_model)\n",
        "\n",
        "write.table(results_final_R, \"results_final_R.csv\", sep = \",\", dec = \".\",row.names = FALSE)\n",
        "\n",
        "\"\"\"\n",
        "\n",
        "# Execute the R script\n",
        "robjects.r(r_script)"
      ],
      "metadata": {
        "id": "J5AnkCkbDX2P"
      },
      "execution_count": null,
      "outputs": []
    },
    {
      "cell_type": "code",
      "source": [
        "os.chdir(\"E:/OneDrive/Documentos/Doutorado/protocol_database/continents_protocol_validation/hyperspectral_data_approach/Asia/Step_5\")\n",
        "results_final = pd.read_csv(\"results_final_R.csv\")\n",
        "\n",
        "print(results_final)"
      ],
      "metadata": {
        "id": "r-QvsxQK4A0o"
      },
      "execution_count": null,
      "outputs": []
    },
    {
      "cell_type": "code",
      "source": [
        "### manipulating results in dataframes ###\n",
        "\n",
        "clusters = results_final\n",
        "clusters.index = clusters['ID_Unique']\n",
        "\n",
        "# Exclua a coluna 'ID_Unique'\n",
        "clusters = clusters.drop('ID_Unique', axis=1)\n",
        "\n",
        "\n",
        "# Merging the cluster code with soil data and the RESAMPLED spectra into a single tabl\n",
        "Soil_data_spectraResampled_clustered = pd.merge(clusters[['cluster']], SpectraResampled,\n",
        "                                              left_index=True, right_index=True, how='outer')\n",
        "\n",
        "# Reset index and rename the index column to 'ID_Unique'\n",
        "Soil_data_spectraResampled_clustered.reset_index(inplace=True)\n",
        "Soil_data_spectraResampled_clustered.rename(columns={'index': 'ID_Unique'}, inplace=True)\n",
        "\n",
        "# Saving the results\n",
        "Soil_data_spectraResampled_clustered.to_csv(\"Soil_data_spectraResampled_clustered.csv\", sep=\",\", decimal=\".\", index=False)\n",
        "\n",
        "# Merging the cluster code with soil data and the ORIGINAL spectra into a single table\n",
        "Soil_data_clustered = pd.merge(clusters[['cluster']], Data_all,\n",
        "                                              left_index=True, right_index=True, how='outer')\n",
        "\n",
        "\n",
        "# Reset index and rename the index column to 'ID_Unique'\n",
        "Soil_data_clustered.reset_index(inplace=True)\n",
        "Soil_data_clustered.rename(columns={'index': 'ID_Unique'}, inplace=True)\n",
        "\n",
        "\n",
        "# Saving the results to 'clusters.csv' file\n",
        "Soil_data_clustered.to_csv('Soil_data_clustered.csv', sep=',', decimal='.', index=False)"
      ],
      "metadata": {
        "id": "xKIY1rwp4FuT"
      },
      "execution_count": null,
      "outputs": []
    },
    {
      "cell_type": "markdown",
      "source": [
        "##Identification of soil attribute outliers by Isolation Forest in each cluster"
      ],
      "metadata": {
        "id": "KiIn5_4uED20"
      }
    },
    {
      "cell_type": "code",
      "source": [
        "# Packages required\n",
        "import os\n",
        "import pandas as pd\n",
        "import numpy as np\n",
        "import matplotlib.pyplot as plt\n",
        "from sklearn.decomposition import PCA\n",
        "from sklearn.preprocessing import StandardScaler\n",
        "from sklearn.ensemble import IsolationForest\n",
        "from numpy import where\n",
        "from mpl_toolkits.mplot3d import Axes3D\n",
        "from plotnine import *"
      ],
      "metadata": {
        "id": "_8PiVdECELoB"
      },
      "execution_count": null,
      "outputs": []
    },
    {
      "cell_type": "code",
      "source": [
        "os.chdir(\"E:/OneDrive/Documentos/Doutorado/protocol_database/continents_protocol_validation/hyperspectral_data_approach/Asia/Step_5\")\n",
        "Soil_data_clustered = pd.read_csv(\"Soil_data_clustered.csv\")\n",
        "\n",
        "print(Soil_data_clustered)"
      ],
      "metadata": {
        "id": "DteA1rWfEfYg"
      },
      "execution_count": null,
      "outputs": []
    },
    {
      "cell_type": "code",
      "source": [
        "\n",
        "# Create an empty DataFrame called results\n",
        "results = pd.DataFrame()\n",
        "\n",
        "# Loop through clusters from 1 to 10\n",
        "for i in range(1, 11):\n",
        "    # Filter the DataFrame to select only the records where the \"cluster\" column is equal to i\n",
        "    data_estratificado = Soil_data_clustered[Soil_data_clustered['cluster'] == i]\n",
        "\n",
        "    # Find the indices of the columns named \"350\" and \"2500\"\n",
        "    indice_coluna_inicio = data_estratificado.columns.get_loc(\"420\")\n",
        "    indice_coluna_fim = data_estratificado.columns.get_loc(\"2500\") + 1\n",
        "\n",
        "    # Select the columns by the range of indices\n",
        "    colunas_selecionadas = data_estratificado.iloc[:, indice_coluna_inicio:indice_coluna_fim]\n",
        "\n",
        "    # Calculate the mean and standard deviation of the selected columns\n",
        "    medias = colunas_selecionadas.mean(numeric_only=True)\n",
        "    desvio_padrao = colunas_selecionadas.std(numeric_only=True)\n",
        "\n",
        "    # Create a temporary DataFrame with the results for the current cluster\n",
        "    results_cluster = pd.DataFrame({\n",
        "        'cluster': [i] * len(medias),\n",
        "        'wavelength': medias.index.astype(float),\n",
        "        'average_reflectance': medias.values,\n",
        "        'sd': desvio_padrao.values\n",
        "    })\n",
        "\n",
        "    # Add the results of the current cluster to the main DataFrame\n",
        "    results = pd.concat([results, results_cluster], ignore_index=True)\n",
        "\n",
        "\n",
        "# Delete rows where 'average_reflectance' is NaN (null)\n",
        "results = results.dropna(subset=['average_reflectance'])\n",
        "\n",
        "# Create the color palette based on the number of clusters\n",
        "palette = [\"#E41A1C\", \"#377EB8\", \"#4DAF4A\", \"#984EA3\",\"#FF760A\",\"#FFD700\",\n",
        "           \"#0AB2D1\", \"#F781BF\", \"#999999\", \"#66C2A5\", \"#8C564B\",\"#1F78B4\",\n",
        "           \"#B2DF8A\", \"#FB9A99\", \"#FDBF6F\", \"#CAB2D6\", \"#6A3D9A\"]\n",
        "\n",
        "\n",
        "# Desired width and height of the plot\n",
        "plot_width = 12\n",
        "plot_height = 7\n",
        "\n",
        "spectral_behavior = (ggplot(results, aes(x='wavelength',\n",
        "                                         y='average_reflectance',\n",
        "                                         ymin='average_reflectance - sd',\n",
        "                                         ymax='average_reflectance + sd',\n",
        "                                         group='cluster')) +\n",
        "\n",
        "  geom_line(aes(color='factor(cluster)'), size=0.85) +\n",
        "  geom_ribbon(aes(fill='factor(cluster)'), alpha=0.2) +\n",
        "  scale_y_continuous(limits=[0, 0.7]) +\n",
        "  scale_color_manual(values=palette) +  # Manually set the colors\n",
        "  scale_fill_manual(values=palette) +  # Manually set the fill colors\n",
        "  labs(title='Spectral behavior of clusters Asia',\n",
        "       x='Wavelength (nm)',\n",
        "       y='Reflectance factor',\n",
        "       color='Cluster',   # Name the color legend\n",
        "       fill='Cluster') +  # Name the fill legend\n",
        "  theme_minimal() +\n",
        "  theme(figure_size=(plot_width, plot_height),\n",
        "        plot_title=element_text(size=15, face=\"bold\"),\n",
        "        axis_title_x=element_text(size=12, face=\"bold\"),\n",
        "        axis_title_y=element_text(size=12, face=\"bold\"),\n",
        "        legend_text=element_text(size=10),\n",
        "        legend_title=element_text(size=12, face=\"bold\"),\n",
        "        plot_background=element_rect(fill=\"white\")))\n",
        "\n",
        "\n",
        "dpi_value = 1000\n",
        "\n",
        "# Setting the working directory\n",
        "output_path = \"E:/OneDrive/Documentos/Doutorado/protocol_database/continents_protocol_validation/hyperspectral_data_approach/Asia/Step_5/spectral_behavior_of_clusters_Asia.png\"\n",
        "spectral_behavior.save(output_path, width=plot_width, height=plot_height, dpi=dpi_value)\n",
        "\n",
        "#Show spectral_behavior\n",
        "spectral_behavior"
      ],
      "metadata": {
        "id": "tcS0_j85Ue2O"
      },
      "execution_count": null,
      "outputs": []
    },
    {
      "cell_type": "code",
      "source": [
        "# Data preparation\n",
        "Data = Soil_data_clustered.dropna(subset=['Clay_gkg'])\n",
        "Data = Data.set_index('ID_Unique')\n",
        "\n",
        "# Select the cluster column and the variable of interest\n",
        "Observation = Data[[\"cluster\", \"Clay_gkg\"]]\n",
        "\n",
        "# Filter null data in the \"Clay_gkg\" column\n",
        "Observation = Observation[Observation['Clay_gkg'].notnull()]\n",
        "\n",
        "# Specify the range of spectral columns\n",
        "wavelength_min = \"420\" # adjust the min spectral wavelength\n",
        "wavelength_max = \"2500\" # adjust the max spectral wavelength\n",
        "\n",
        "# Select the spectral columns\n",
        "Spectra_original = Data.loc[:, wavelength_min:wavelength_max] # soil spectra (original)\n",
        "\n",
        "# Merge DataFrames to have all the information in one place\n",
        "Observation_final = pd.merge(Observation, Spectra_original, left_index=True, right_index=True, how='left')\n",
        "\n",
        "Observation_final = Observation_final\n",
        "\n",
        "print(Observation_final)"
      ],
      "metadata": {
        "id": "A79dFgK-8xYq"
      },
      "execution_count": null,
      "outputs": []
    },
    {
      "cell_type": "code",
      "source": [
        "############ Isolation Forest ############\n",
        "\n",
        "#https://scikit-learn.org/stable/modules/generated/sklearn.ensemble.IsolationForest.html\n",
        "\n",
        "# Load the dataset\n",
        "data = Observation_final\n",
        "\n",
        "# Remove the 'cluster' column to keep only spectral features\n",
        "features = data.drop(columns=['cluster'])\n",
        "\n",
        "# Initialize dictionaries to store results\n",
        "\n",
        "all_anomaly_dict = {}\n",
        "out_anomalies_dict = {}\n",
        "plot_data_dict = {}\n",
        "\n",
        "# Iterate over each unique cluster\n",
        "for idx, cluster_label in enumerate(sorted(data['cluster'].unique())):\n",
        "\n",
        "    # Filter data for the current cluster\n",
        "    cluster_data = data[data['cluster'] == cluster_label]\n",
        "\n",
        "    # Remove rows with missing values and keep only spectral features\n",
        "    # Use features.columns to get the column names and select only those columns\n",
        "    data_filtered = cluster_data[features.columns].dropna()\n",
        "\n",
        "    # Normalize the data using StandardScaler\n",
        "    scaler = StandardScaler()\n",
        "    data_filtered_scaled = scaler.fit_transform(data_filtered)\n",
        "\n",
        "    # Apply Isolation Forest for anomaly detection\n",
        "    iforest = IsolationForest(n_estimators=100, contamination=0.02, random_state=42)\n",
        "    predictions = iforest.fit_predict(data_filtered_scaled)\n",
        "\n",
        "    # Get the anomaly score\n",
        "    anomaly_scores = iforest.decision_function(data_filtered_scaled)\n",
        "    data_filtered['anomaly_score'] = anomaly_scores\n",
        "\n",
        "    # Identify indices of outliers (anomalies)\n",
        "    anom_index = where(predictions == -1)\n",
        "    anomalies = data_filtered.iloc[anom_index]\n",
        "    anomalies['cluster'] = cluster_label  # Add the cluster column\n",
        "\n",
        "    # Store anomalies in the dictionary\n",
        "    out_anomalies_dict[cluster_label] = anomalies\n",
        "\n",
        "    # Store anomaly scores for all samples in the dictionary\n",
        "    data_filtered['cluster'] = cluster_label\n",
        "    all_anomaly_dict[cluster_label] = data_filtered  # Add scores\n",
        "\n",
        "    # Apply PCA to reduce spectral features to 2 principal components\n",
        "    spectral_features = features.columns[1:]  # Exclude 'Clay_gkg'\n",
        "    pca = PCA(n_components=2)\n",
        "    data_pca = pca.fit_transform(data_filtered[spectral_features])\n",
        "\n",
        "    # Create a DataFrame with PCs and the 'Clay_gkg' attribute\n",
        "    data_3d = pd.DataFrame(data_pca, columns=['PC1', 'PC2'])\n",
        "    data_3d['Clay_gkg'] = data_filtered['Clay_gkg'].values\n",
        "\n",
        "    # Separate data into outliers and non-outliers\n",
        "    outliers_3d = data_3d.iloc[anom_index]\n",
        "    non_outliers_3d = data_3d.drop(index=anom_index[0])\n",
        "\n",
        "    # Store data for plots in the dictionary\n",
        "    plot_data_dict[cluster_label] = {\n",
        "        'data_3d': data_3d,\n",
        "        'outliers_3d': outliers_3d,\n",
        "        'non_outliers_3d': non_outliers_3d,\n",
        "        'pca': pca\n",
        "    }"
      ],
      "metadata": {
        "id": "eO_EX5017YD3"
      },
      "execution_count": null,
      "outputs": []
    },
    {
      "cell_type": "code",
      "source": [
        "### 3D plot Visualization ###\n",
        "\n",
        "# Define the color palette for the clusters\n",
        "palette = [\"#E41A1C\", \"#377EB8\", \"#4DAF4A\", \"#984EA3\",\"#FF760A\",\"#FFD700\",\n",
        "           \"#0AB2D1\", \"#F781BF\", \"#999999\", \"#66C2A5\"]\n",
        "\n",
        "# Output directory for the plots\n",
        "output_dir = \"E:/OneDrive/Documentos/Doutorado/protocol_database/continents_protocol_validation/hyperspectral_data_approach/Asia/Step_5/Clay\"\n",
        "\n",
        "# Iterate over each cluster and generate plots\n",
        "for idx, (cluster_label, results) in enumerate(plot_data_dict.items()):\n",
        "    data_3d = results['data_3d']\n",
        "    outliers_3d = results['outliers_3d']\n",
        "    non_outliers_3d = results['non_outliers_3d']\n",
        "    pca = results['pca']\n",
        "\n",
        "    # Create 3D plot\n",
        "    fig = plt.figure(figsize=(18, 16))\n",
        "    ax = fig.add_subplot(111, projection='3d')\n",
        "\n",
        "    # Plot outliers\n",
        "    ax.scatter(outliers_3d['PC1'], outliers_3d['PC2'], outliers_3d['Clay_gkg'],\n",
        "               c='red', marker='x', s=110, label=\"Outliers\")\n",
        "\n",
        "    # Plot non-outliers with cluster-specific color\n",
        "    cluster_color = palette[idx % len(palette)]\n",
        "    ax.scatter(non_outliers_3d['PC1'], non_outliers_3d['PC2'], non_outliers_3d['Clay_gkg'],\n",
        "               c=cluster_color, marker='o', alpha=1, edgecolors='black', s=60, label=\"Non-outliers\")\n",
        "\n",
        "\n",
        "    # Label axes with explained variance of PCs and Clay attribute, and increase font size\n",
        "    ax.set_xlabel(f'PC1 ({pca.explained_variance_ratio_[0] * 100:.2f}%)', fontweight='bold', fontsize=35, labelpad=37)\n",
        "    ax.set_ylabel(f'PC2 ({pca.explained_variance_ratio_[1] * 100:.2f}%)', fontweight='bold', fontsize=35, labelpad=45)\n",
        "    ax.set_zlabel('C gkg', fontweight='bold', fontsize=35, labelpad=54)\n",
        "\n",
        "    # Increase the font size of the tick labels\n",
        "    ax.tick_params(axis='both', which='major', labelsize=33, pad=9)  # Adjusts x and y axis\n",
        "    ax.tick_params(axis='z', which='major', labelsize=33, pad=24)     # Adjusts z axis\n",
        "\n",
        "    # Set z-axis limits from 0 to 900\n",
        "    ax.set_zlim(0, 900)\n",
        "\n",
        "    # Adjust layout to prevent label cutoff\n",
        "    plt.tight_layout()\n",
        "\n",
        "    # Add legend and title\n",
        "    ax.legend(fontsize=12)\n",
        "    plt.title(f'3D PCA plot with Outliers for Cluster {cluster_label} Asia\\n(Clay gkg vs. PC1 & PC2)', fontweight='bold', fontsize=20, y=1.05)\n",
        "\n",
        "    # Save the plot as an image with specified DPI\n",
        "    output_path = f\"{output_dir}cluster_{cluster_label}_outlier_detection.png\"\n",
        "    plt.savefig(output_path, dpi=1000)\n",
        "\n",
        "    # Display the plot\n",
        "    plt.show()"
      ],
      "metadata": {
        "id": "Q1iMk8X57YWg"
      },
      "execution_count": null,
      "outputs": []
    },
    {
      "cell_type": "code",
      "source": [
        "# Concatenate all DataFrames in the dictionary into a single DataFrame\n",
        "anomalies_combined = pd.concat(out_anomalies_dict.values())\n",
        "\n",
        "# Reset the index of the combined DataFrame\n",
        "anomalies_combined = anomalies_combined.reset_index()\n",
        "\n",
        "print(anomalies_combined)"
      ],
      "metadata": {
        "id": "TjAVaL__-DpR"
      },
      "execution_count": null,
      "outputs": []
    },
    {
      "cell_type": "code",
      "source": [
        "# Generate a list of all sample IDs in anomalies_combined\n",
        "IDs_to_filter = anomalies_combined['ID_Unique'].tolist()\n",
        "\n",
        "# Print the list of sample IDs\n",
        "print(IDs_to_filter)\n",
        "\n",
        "# Summary of the number of samples per cluster\n",
        "summary = anomalies_combined.groupby('cluster').size()\n",
        "\n",
        "# Print the summary by cluster\n",
        "print(summary)"
      ],
      "metadata": {
        "id": "CQV9bW7S7YeG"
      },
      "execution_count": null,
      "outputs": []
    },
    {
      "cell_type": "code",
      "source": [
        "# Concatenate all DataFrames in the dictionary into a single DataFrame\n",
        "all_anomaly = pd.concat(all_anomaly_dict.values())\n",
        "\n",
        "# Reset the index of the combined DataFrame\n",
        "all_anomaly = all_anomaly.reset_index()\n",
        "\n",
        "# Add a new column \"outliers\" filled with False\n",
        "all_anomaly.insert(1, \"outliers\", False)\n",
        "\n",
        "# Update the values to True where ID_Unique is in the list IDs_to_filter\n",
        "all_anomaly.loc[all_anomaly['ID_Unique'].isin(IDs_to_filter), 'outliers'] = True\n",
        "\n",
        "print(all_anomaly)\n",
        "\n",
        "# Setting the working directory\n",
        "os.chdir(\"E:/OneDrive/Documentos/Doutorado/protocol_database/continents_protocol_validation/hyperspectral_data_approach/Asia/Step_5/Clay\")\n",
        "\n",
        "# Save all_anomaly DataFrame as a CSV file\n",
        "all_anomaly.to_csv(\"all_anomaly_score.csv\", index=False)"
      ],
      "metadata": {
        "id": "CQ69Nl4IZECV"
      },
      "execution_count": null,
      "outputs": []
    },
    {
      "cell_type": "code",
      "source": [
        "DB_filter_step_5 = Data.reset_index()\n",
        "\n",
        "# Add a new column \"outliers_step_5_\" filled with False\n",
        "DB_filter_step_5.insert(1, \"outliers_step_5_Carbon\", False)\n",
        "\n",
        "# Update the values to True where ID_Unique is in the list IDs_to_filter\n",
        "DB_filter_step_5.loc[DB_filter_step_5['ID_Unique'].isin(IDs_to_filter), 'outliers_step_5_Carbon'] = True\n",
        "\n",
        "# Create a new DataFrame with only the rows where outliers_step_5_ is True\n",
        "outliers_samples_step_5 = DB_filter_step_5[DB_filter_step_5['outliers_step_5_Carbon'] == True].copy()\n",
        "\n",
        "# Delete the samples where outliers_step_5_ is True\n",
        "DB_filter_step_5 = DB_filter_step_5[DB_filter_step_5['outliers_step_5_Carbon'] == False].copy()\n",
        "\n",
        "print(outliers_samples_step_5)"
      ],
      "metadata": {
        "id": "ErSYGmDY7YhT"
      },
      "execution_count": null,
      "outputs": []
    },
    {
      "cell_type": "code",
      "source": [
        "# Checking the number of samples in the initial dataframe of the attribute that was analyzed,\n",
        "# outliers outliers_samples_step_5, and DB_filter_step_5 dataframe\n",
        "\n",
        "# Print the number of samples in Observation_final\n",
        "print(\"Number of samples in Observation_final:\", Observation_final.shape[0])\n",
        "\n",
        "# Print the number of samples in outliers_samples_step_5_\n",
        "print(\"Number of samples in outliers_samples_step_5_Carbon:\", outliers_samples_step_5.shape[0])\n",
        "\n",
        "# Print the number of samples in DB_filter_step_5_\n",
        "print(\"Number of samples in DB_filter_step_5_Carbon:\", DB_filter_step_5.shape[0])"
      ],
      "metadata": {
        "id": "8mE-rdT97YkA"
      },
      "execution_count": null,
      "outputs": []
    },
    {
      "cell_type": "code",
      "source": [
        "# Save the DB_filter_step_5 and outliers_samples_step_5 DataFrame as a CSV file\n",
        "\n",
        "# Setting the working directory\n",
        "os.chdir(\"E:/OneDrive/Documentos/Doutorado/protocol_database/continents_protocol_validation/hyperspectral_data_approach/Asia/Step_5/Clay\")\n",
        "\n",
        "# Save the outliers_samples_3 DataFrame as a CSV file\n",
        "outliers_samples_step_5.to_csv(\"outliers_samples_step_5_Clay.csv\", index=False)\n",
        "\n",
        "# Save the DB_filter_3 DataFrame as a CSV file\n",
        "DB_filter_step_5.to_csv(\"DB_filter_step_5_Clay_Asia_14.csv\", index=False)"
      ],
      "metadata": {
        "id": "uU7DU-s97nDR"
      },
      "execution_count": null,
      "outputs": []
    },
    {
      "cell_type": "code",
      "source": [
        "from plotnine import *\n",
        "\n",
        "# Create the color palette based on the number of clusters\n",
        "palette = [\"#E41A1C\", \"#377EB8\", \"#4DAF4A\", \"#984EA3\", \"#FF760A\",\"#FFD700\",\n",
        "           \"#0AB2D1\", \"#F781BF\", \"#999999\", \"#66C2A5\", \"#8C564B\",\"#1F78B4\",\n",
        "           \"#B2DF8A\", \"#FB9A99\", \"#FDBF6F\", \"#CAB2D6\", \"#6A3D9A\"]\n",
        "\n",
        "# Set the desired plot size\n",
        "plot_width = 10\n",
        "plot_height = 9\n",
        "\n",
        "# Create the plot using plotnine\n",
        "box_plot_1 = (ggplot(Observation_final, aes(x='factor(cluster)', y='Clay_gkg', fill='factor(cluster)')) +\n",
        "            geom_boxplot(alpha=0.7) +\n",
        "            scale_fill_manual(values=palette) +\n",
        "            scale_y_continuous(limits=[0, 900]) +\n",
        "            labs(title='Box Plot of Clay gkg for Each Cluster Asia before filter',\n",
        "                 x='Cluster',\n",
        "                 y='Clay gkg') +\n",
        "            theme_minimal() +\n",
        "            theme(figure_size=(plot_width, plot_height),\n",
        "                  plot_title=element_text(size=13, face=\"bold\"),\n",
        "                  axis_title_x=element_text(size=10, face=\"bold\"),\n",
        "                  axis_title_y=element_text(size=10, face=\"bold\"),\n",
        "                  plot_background=element_rect(fill=\"white\")))\n",
        "\n",
        "# Display the plot\n",
        "print(box_plot_1)\n",
        "\n",
        "# Create the plot using plotnine\n",
        "box_plot_2 = (ggplot(DB_filter_step_5, aes(x='factor(cluster)', y='Clay_gkg', fill='factor(cluster)')) +\n",
        "            geom_boxplot(alpha=0.7) +\n",
        "            scale_fill_manual(values=palette) +\n",
        "            scale_y_continuous(limits=[0, 900]) +\n",
        "            labs(title='Box Plot of Clay gkg for Each Cluster Asia after filter',\n",
        "                 x='Cluster',\n",
        "                 y='Clay gkg') +\n",
        "            theme_minimal() +\n",
        "            theme(figure_size=(plot_width, plot_height),\n",
        "                  plot_title=element_text(size=13, face=\"bold\"),\n",
        "                  axis_title_x=element_text(size=10, face=\"bold\"),\n",
        "                  axis_title_y=element_text(size=10, face=\"bold\"),\n",
        "                  plot_background=element_rect(fill=\"white\")))\n",
        "\n",
        "# Display the plot\n",
        "print(box_plot_2)\n",
        "\n",
        "dpi_value = 1000\n",
        "\n",
        "# Setting the working directory\n",
        "output_path = \"E:/OneDrive/Documentos/Doutorado/protocol_database/continents_protocol_validation/hyperspectral_data_approach/Asia/Step_5/Clay/box_plot_1_Asia.png\"\n",
        "box_plot_1.save(output_path, width=plot_width, height=plot_height, dpi=dpi_value)\n",
        "\n",
        "output_path = \"E:/OneDrive/Documentos/Doutorado/protocol_database/continents_protocol_validation/hyperspectral_data_approach/Asia/Step_5/Clay/box_plot_2_Asia.png\"\n",
        "box_plot_2.save(output_path, width=plot_width, height=plot_height, dpi=dpi_value)"
      ],
      "metadata": {
        "id": "0Gt7YTy3IRoB"
      },
      "execution_count": null,
      "outputs": []
    },
    {
      "cell_type": "code",
      "source": [
        "import matplotlib.pyplot as plt\n",
        "import matplotlib.image as mpimg\n",
        "from plotnine import ggplot, aes, geom_boxplot, scale_fill_manual, scale_y_continuous, labs, theme_minimal, theme, element_text, element_rect\n",
        "\n",
        "# Create the color palette based on the number of clusters\n",
        "palette = [\"#E41A1C\", \"#377EB8\", \"#4DAF4A\", \"#984EA3\", \"#FF760A\",\"#FFD700\",\n",
        "           \"#0AB2D1\", \"#F781BF\", \"#999999\", \"#66C2A5\", \"#8C564B\",\"#1F78B4\",\n",
        "           \"#B2DF8A\", \"#FB9A99\", \"#FDBF6F\", \"#CAB2D6\", \"#6A3D9A\"]\n",
        "\n",
        "# Set the desired plot size\n",
        "plot_width = 10\n",
        "plot_height = 9\n",
        "\n",
        "# Create the plot using plotnine for before the filter\n",
        "box_plot_1 = (ggplot(Observation_final, aes(x='factor(cluster)', y='Clay_gkg', fill='factor(cluster)')) +\n",
        "            geom_boxplot(alpha=0.7) +\n",
        "            scale_fill_manual(values=palette) +\n",
        "            scale_y_continuous(limits=[0, 1000]) +\n",
        "            labs(title='Box Plot of Clay gkg for Each Cluster before filter',\n",
        "                 x='Cluster',\n",
        "                 y='Clay_gkg') +\n",
        "            theme_minimal() +\n",
        "            theme(figure_size=(plot_width, plot_height),\n",
        "                  plot_title=element_text(size=13, face=\"bold\"),\n",
        "                  axis_title_x=element_text(size=10, face=\"bold\"),\n",
        "                  axis_title_y=element_text(size=10, face=\"bold\"),\n",
        "                  plot_background=element_rect(fill=\"white\")))\n",
        "\n",
        "# Create the plot using plotnine for after the filter\n",
        "box_plot_2 = (ggplot(DB_filter_step_5_Clay, aes(x='factor(cluster)', y='Clay_gkg', fill='factor(cluster)')) +\n",
        "            geom_boxplot(alpha=0.7) +\n",
        "            scale_fill_manual(values=palette) +\n",
        "            scale_y_continuous(limits=[0, 1000]) +\n",
        "            labs(title='Box Plot of Clay gkg for Each Cluster after filter',\n",
        "                 x='Cluster',\n",
        "                 y='Clay_gkg') +\n",
        "            theme_minimal() +\n",
        "            theme(figure_size=(plot_width, plot_height),\n",
        "                  plot_title=element_text(size=13, face=\"bold\"),\n",
        "                  axis_title_x=element_text(size=10, face=\"bold\"),\n",
        "                  axis_title_y=element_text(size=10, face=\"bold\"),\n",
        "                  plot_background=element_rect(fill=\"white\")))\n",
        "\n",
        "# Save the plots as temporary files\n",
        "box_plot_1.save(\"box_plot_1.png\")\n",
        "box_plot_2.save(\"box_plot_2.png\")\n",
        "\n",
        "# Load the saved images\n",
        "img1 = mpimg.imread(\"box_plot_1.png\")\n",
        "img2 = mpimg.imread(\"box_plot_2.png\")\n",
        "\n",
        "# Set up the side-by-side display\n",
        "fig, axes = plt.subplots(nrows=1, ncols=2, figsize=(plot_width*2, plot_height))\n",
        "\n",
        "# Display the images side by side\n",
        "axes[0].imshow(img1)\n",
        "axes[0].axis('off')  # Remove the axes\n",
        "axes[0].set_title('Box Plot of Clay gkg for Each Cluster before filter')\n",
        "\n",
        "axes[1].imshow(img2)\n",
        "axes[1].axis('off')  # Remove the axes\n",
        "axes[1].set_title('Box Plot of Clay gkg for Each Cluster after filter')\n",
        "\n",
        "plt.tight_layout()\n",
        "plt.show()"
      ],
      "metadata": {
        "id": "lCCbYpfVISBP"
      },
      "execution_count": null,
      "outputs": []
    },
    {
      "cell_type": "markdown",
      "source": [
        "# **Step 6° - ABOPA Filter**"
      ],
      "metadata": {
        "id": "XrMIUcKhMtev"
      }
    },
    {
      "cell_type": "markdown",
      "source": [
        "## Importing and manipulating data"
      ],
      "metadata": {
        "id": "NPDBd2rnNDFQ"
      }
    },
    {
      "cell_type": "code",
      "source": [
        "# Packages required\n",
        "import os\n",
        "import pandas as pd\n",
        "import numpy as np\n",
        "from sklearn.ensemble import RandomForestRegressor\n",
        "from sklearn.model_selection import KFold, GridSearchCV, cross_val_score\n",
        "from sklearn.metrics import mean_squared_error, r2_score, mean_absolute_error\n",
        "from sklearn.inspection import permutation_importance\n",
        "from joblib import Parallel, delayed\n",
        "from tabulate import tabulate"
      ],
      "metadata": {
        "id": "TPm7ZEGPB3Ar"
      },
      "execution_count": null,
      "outputs": []
    },
    {
      "cell_type": "code",
      "source": [
        "# Working directory settings\n",
        "os.chdir(\"D:/alunos/Bruno_B/final_application/hyperspectral_data_approach/Organic_Carbon/Step_5\")\n",
        "\n",
        "# ===============================================================\n",
        "# DATA READING AND PREPARATION\n",
        "DB_filter_step_5 = pd.read_csv(\"DB_filter_step_5_C_3.csv\", header=0, sep=\",\", decimal=\".\", na_values=[\"NA\", \"\"])\n",
        "\n",
        "DB = DB_filter_step_5.copy()"
      ],
      "metadata": {
        "id": "zcUytqKZNHIQ"
      },
      "execution_count": null,
      "outputs": []
    },
    {
      "cell_type": "code",
      "source": [
        "print(DB)"
      ],
      "metadata": {
        "id": "BRYZhh3bNfhw"
      },
      "execution_count": null,
      "outputs": []
    },
    {
      "cell_type": "code",
      "source": [
        "# Selecting specific columns where the spectrum begins and ends\n",
        "\n",
        "# Specify the range of spectral columns\n",
        "wavelength_min = \"420\" # adjust the min spectral wavelength\n",
        "wavelength_max = \"2500\" # adjust the max spectral wavelength\n",
        "\n",
        "# Select the spectral columns\n",
        "DB_spectra = DB.loc[:, wavelength_min:wavelength_max] # soil spectra (original)\n",
        "\n",
        "print(DB_spectra)"
      ],
      "metadata": {
        "id": "zWwCTeo-NiUP"
      },
      "execution_count": null,
      "outputs": []
    },
    {
      "cell_type": "code",
      "source": [
        "# Creating a new dataframe with specific columns and removing rows with NA values\n",
        "\n",
        "DB1 = pd.concat([DB.iloc[:, [0, 10]],  # Select the column number where the dependent variable is\n",
        "\n",
        "                DB_spectra.iloc[:, list(range(0, 2081, 10))]], axis=1)\n",
        "\n",
        "DB1 = DB1.dropna()\n",
        "\n",
        "# Printing the dataframe structure\n",
        "print(DB1.info())\n",
        "\n",
        "print(DB1)\n",
        "\n",
        "# Separation of predictors and response variable\n",
        "X = DB1.iloc[:, 2:211].values  # Covariates (columns 3 to 12)\n",
        "y = DB1['C_gkg'].values        # Response variable"
      ],
      "metadata": {
        "id": "RH9NGNlCNoMS"
      },
      "execution_count": null,
      "outputs": []
    },
    {
      "cell_type": "code",
      "source": [
        "print(DB)"
      ],
      "metadata": {
        "id": "Xuw22skiNrWg"
      },
      "execution_count": null,
      "outputs": []
    },
    {
      "cell_type": "markdown",
      "source": [
        "## ***Random Forest algorithm:***\n",
        "  "
      ],
      "metadata": {
        "id": "358vTKG2OhSP"
      }
    },
    {
      "cell_type": "code",
      "source": [
        "# ===============================================================\n",
        "# AUXILIARY FUNCTIONS\n",
        "# ===============================================================\n",
        "\n",
        "def train_fold_model(model, X_train, y_train, X_val, y_val):\n",
        "    \"\"\"\n",
        "    Trains the model on a fold and calculates evaluation metrics.\n",
        "    \"\"\"\n",
        "    model.fit(X_train, y_train)\n",
        "    y_pred = model.predict(X_val)\n",
        "    r2 = r2_score(y_val, y_pred)\n",
        "    rmse = np.sqrt(mean_squared_error(y_val, y_pred))\n",
        "    rpiq = (np.percentile(y_val, 75) - np.percentile(y_val, 25)) / rmse\n",
        "    return {'R2': r2, 'RMSE': rmse, 'RPIQ': rpiq}, model.feature_importances_\n",
        "\n",
        "def summarize_fold_metrics(fold_metrics):\n",
        "    \"\"\"\n",
        "    Calculates the average metrics across folds.\n",
        "    \"\"\"\n",
        "    fold_metrics_df = pd.DataFrame(fold_metrics)\n",
        "    avg_metrics = {\n",
        "        'Average R2': fold_metrics_df['R2'].mean(),\n",
        "        'Average RMSE': fold_metrics_df['RMSE'].mean(),\n",
        "        'Average RPIQ': fold_metrics_df['RPIQ'].mean()\n",
        "    }\n",
        "    return avg_metrics, fold_metrics_df\n",
        "\n",
        "def calculate_feature_importances(importances, feature_names):\n",
        "    \"\"\"\n",
        "    Calculates the mean feature importances.\n",
        "    \"\"\"\n",
        "    mean_importances = np.mean(importances, axis=0)\n",
        "    importance_df = pd.DataFrame({\n",
        "        'Feature': feature_names,\n",
        "        'Mean Importance': mean_importances\n",
        "    }).sort_values(by='Mean Importance', ascending=False)\n",
        "    return importance_df"
      ],
      "metadata": {
        "id": "1xlbYRsgO7TQ"
      },
      "execution_count": null,
      "outputs": []
    },
    {
      "cell_type": "code",
      "source": [
        "# ===============================================================\n",
        "# INITIAL CONFIGURATIONS\n",
        "# ===============================================================\n",
        "# Initialization of lists to store results\n",
        "final_metrics = []\n",
        "final_importances = []\n",
        "final_predictions = []\n",
        "\n",
        "# Configure the Random Forest model\n",
        "define_model = RandomForestRegressor(random_state=None, n_jobs=95)\n",
        "\n",
        "param_grid = {\n",
        "    'n_estimators': [30, 100, 200, 500],\n",
        "    'max_features': [2, 6],  # Número de variáveis por split\n",
        "    'min_samples_leaf': [3, 6, 9],  # População mínima na folha\n",
        "    'max_leaf_nodes': [500, 1000, 1500],  # Número máximo de folhas\n",
        "    'bootstrap': [True]\n",
        "}\n",
        "\n",
        "# Set up 10-fold cross-validation\n",
        "kf = KFold(n_splits=10, shuffle=True, random_state=None)"
      ],
      "metadata": {
        "id": "wbQXN4ewIJfA"
      },
      "execution_count": null,
      "outputs": []
    },
    {
      "cell_type": "code",
      "source": [
        "# ===============================================================\n",
        "# MODEL TRAINING\n",
        "# ===============================================================\n",
        "for model_num in range(50):\n",
        "    print(f\"\\nTraining Model {model_num + 1}...\")\n",
        "\n",
        "    # Configure Grid Search with cross-validation\n",
        "    grid_search = GridSearchCV(\n",
        "        estimator=define_model,\n",
        "        param_grid=param_grid,\n",
        "        cv=kf,\n",
        "        scoring='neg_mean_squared_error',\n",
        "        n_jobs=60,\n",
        "        verbose=0\n",
        "    )\n",
        "\n",
        "    # Fit the model and search for the best hyperparameters\n",
        "    grid_search.fit(X, y)\n",
        "    best_params = grid_search.best_params_\n",
        "    print(f\"Best hyperparameters for Model {model_num + 1}: {best_params}\")\n",
        "\n",
        "    # Best model with the optimal hyperparameters\n",
        "    best_model = grid_search.best_estimator_\n",
        "\n",
        "    # Model evaluation per fold\n",
        "    fold_metrics = []\n",
        "    importances = []\n",
        "\n",
        "    for fold, (train_index, val_index) in enumerate(kf.split(X), 1):\n",
        "        # Split data into training and validation\n",
        "        X_train, X_val = X[train_index], X[val_index]\n",
        "        y_train, y_val = y[train_index], y[val_index]\n",
        "\n",
        "        # Train and evaluate the model on the current fold\n",
        "        metrics, feature_importances = train_fold_model(\n",
        "            best_model, X_train, y_train, X_val, y_val\n",
        "        )\n",
        "\n",
        "        # Store fold results\n",
        "        fold_metrics.append({'Fold': fold, **metrics})\n",
        "        importances.append(feature_importances)\n",
        "\n",
        "    # Summary of metrics by model\n",
        "    avg_metrics, fold_metrics_df = summarize_fold_metrics(fold_metrics)\n",
        "    avg_metrics['Model'] = model_num + 1\n",
        "    print(f\"\\nFold Metrics for Model {model_num + 1}:\")\n",
        "    print(tabulate(fold_metrics_df, headers='keys', tablefmt='pretty'))\n",
        "\n",
        "    print(f\"\\nAverage Metrics for Model {model_num + 1}:\")\n",
        "    print(tabulate([avg_metrics], headers='keys', tablefmt='pretty'))\n",
        "\n",
        "    # Feature importance\n",
        "    feature_names = DB1.columns[2:211]  # Names of the covariates\n",
        "    importance_df = calculate_feature_importances(importances, feature_names)\n",
        "    print(f\"\\nFeature Importance for Model {model_num + 1}:\")\n",
        "    print(tabulate(importance_df, headers='keys', tablefmt='pretty'))\n",
        "\n",
        "    # Store results\n",
        "    final_metrics.append(avg_metrics)\n",
        "    final_importances.append(importance_df)\n",
        "\n",
        "    # Train the final model with all data\n",
        "    best_model.fit(X, y)\n",
        "    final_predictions.append(best_model.predict(X))"
      ],
      "metadata": {
        "id": "f2q7wiBTINh_"
      },
      "execution_count": null,
      "outputs": []
    },
    {
      "cell_type": "code",
      "source": [
        "# ===============================================================\n",
        "# SUMMARY OF COVARIATE IMPORTANCE IN EACH ITERATION\n",
        "# ===============================================================\n",
        "\n",
        "# Initializing the list to store feature importance DataFrames\n",
        "dfs_Mean_feature_importance = []\n",
        "\n",
        "# Assuming 'final_importances' contains the DataFrames of feature importances\n",
        "for i, df_fi in enumerate(final_importances):\n",
        "    renamed = df_fi.rename(columns={\"Mean Importance\": f\"Mean_Importance_Model_{i+1}\"})\n",
        "    dfs_Mean_feature_importance.append(renamed)\n",
        "\n",
        "# Consolidating feature importances into a single DataFrame\n",
        "all_Mean_feature_importance = dfs_Mean_feature_importance[0]\n",
        "for df_fi in dfs_Mean_feature_importance[1:]:\n",
        "    all_Mean_feature_importance = pd.merge(\n",
        "        all_Mean_feature_importance,\n",
        "        df_fi,\n",
        "        on=\"Feature\",\n",
        "        how=\"inner\",\n",
        "        suffixes=(\"\", f\"_Model_{i+1}\")  # Adding suffixes to avoid column duplication\n",
        "    )\n",
        "\n",
        "# Displaying the final result\n",
        "print(all_Mean_feature_importance)"
      ],
      "metadata": {
        "id": "DQJJO2O6IQ0m"
      },
      "execution_count": null,
      "outputs": []
    },
    {
      "cell_type": "code",
      "source": [
        "# ===============================================================\n",
        "# FINAL SUMMARY OF RESULTS\n",
        "# ===============================================================\n",
        "\n",
        "# Create DataFrame with model metrics\n",
        "print(\"\\nSummary of Metrics for All Models:\")\n",
        "final_metrics_df = pd.DataFrame(final_metrics)\n",
        "print(tabulate(final_metrics_df, headers='keys', tablefmt='pretty'))\n",
        "\n",
        "# Create the final DataFrame with IDs and observed values\n",
        "all_observed_predicted = pd.DataFrame({'ID_Unico': DB['ID_Unico'], 'atr_content': y})\n",
        "\n",
        "# Add predictions from each model to the final DataFrame\n",
        "for model_num, preds in enumerate(final_predictions, 1):\n",
        "    all_observed_predicted[f'Prediction_Model_{model_num}'] = preds\n",
        "\n",
        "# Calculate the mean of predictions\n",
        "all_observed_predicted['mean_pred'] = all_observed_predicted.filter(like='Prediction_Model_').mean(axis=1)\n",
        "\n",
        "# Calculate the standard deviation of predictions\n",
        "all_observed_predicted['Std_Dev_Prediction'] = all_observed_predicted.filter(like='Prediction_Model_').std(axis=1)\n",
        "\n",
        "# Display the final DataFrame with new columns\n",
        "print(\"\\nFinal DataFrame with Predictions, Mean, and Standard Deviation:\")\n",
        "print(all_observed_predicted)"
      ],
      "metadata": {
        "id": "qWBPars-IS5u"
      },
      "execution_count": null,
      "outputs": []
    },
    {
      "cell_type": "code",
      "source": [
        "# Setting the working directory\n",
        "os.chdir(\"D:/alunos/Bruno_B/final_application/hyperspectral_data_approach/Organic_Carbon/Step_6\")\n",
        "\n",
        "# Save the final_metrics_df DataFrame as a CSV file\n",
        "final_metrics_df.to_csv(\"acuracia_DB_protocol_filtered_step_5_Carbon.csv\", index=False)\n",
        "\n",
        "# Save all_observed_predicted DataFrame as a CSV file\n",
        "all_observed_predicted.to_csv(\"predictions_DB_protocol_filtered_step_5_Carbon.csv\", index=False)\n",
        "\n",
        "# Save all_Mean_feature_importance DataFrame as a CSV file\n",
        "all_Mean_feature_importance.to_csv(\"ImpCoV_DB_protocol_filtered_step_5_Carbon.csv\", index=False)"
      ],
      "metadata": {
        "id": "g0mBGjQnIVtX"
      },
      "execution_count": null,
      "outputs": []
    },
    {
      "cell_type": "markdown",
      "source": [
        "## Cutting line determination"
      ],
      "metadata": {
        "id": "FthgZ2AIQD2I"
      }
    },
    {
      "cell_type": "code",
      "source": [
        "# Packages required\n",
        "import os\n",
        "import statsmodels.api as sm\n",
        "import numpy as np\n",
        "import pandas as pd\n",
        "from plotnine import *\n",
        "import scipy.stats as stats\n",
        "from plotnine import ggplot"
      ],
      "metadata": {
        "id": "R3eUv4f2QIEI"
      },
      "execution_count": null,
      "outputs": []
    },
    {
      "cell_type": "code",
      "source": [
        "# Set the working directory\n",
        "os.chdir(\"E:/OneDrive/Documentos/Doutorado/protocol_database/application_of_the_protocol/final_application/hyperspectral_data_approach/Organic_Carbon/Step_6\")\n",
        "\n",
        "# Read the CSV file\n",
        "stat_p = pd.read_csv(\"predictions_DB_protocol_filtered_step_5_Carbon.csv\")\n",
        "\n",
        "print(stat_p)"
      ],
      "metadata": {
        "id": "2st4ZktlQTYX"
      },
      "execution_count": null,
      "outputs": []
    },
    {
      "cell_type": "code",
      "source": [
        "### Cutting line determination ###\n",
        "\n",
        "# Specify the X and Y columns\n",
        "column_x = stat_p['atr_content']\n",
        "column_y = stat_p['mean_pred']\n",
        "\n",
        "# Create a linear regression model\n",
        "X = sm.add_constant(column_x)  # Add the constant for the intercept term\n",
        "model = sm.OLS(column_y, X).fit()\n",
        "\n",
        "# Calculate predicted values\n",
        "predictions = model.predict(X)\n",
        "\n",
        "# Calculate the standard deviation of residuals\n",
        "residuals = model.resid\n",
        "std_residuals = np.std(residuals)\n",
        "\n",
        "# Confidence level (e.g., 98%)\n",
        "confidence_level = 0.99\n",
        "\n",
        "# Quantile of the t distribution\n",
        "quantile_t = stats.t.ppf((1 + confidence_level) / 2, df=len(residuals) - 2)\n",
        "\n",
        "# Calculate upper and lower confidence limits\n",
        "upper_limit_attribute = predictions + quantile_t * (std_residuals * 1.35)\n",
        "lower_limit_attribute = predictions - quantile_t * (std_residuals * 1.35)\n",
        "\n",
        "# Regression coefficients\n",
        "intercept, coef_x = model.params\n",
        "\n",
        "# Standard error of coefficients\n",
        "std_error = model.bse\n",
        "\n",
        "# T-value and p-value of coefficients\n",
        "t_value = model.tvalues\n",
        "p_value = model.pvalues\n",
        "\n",
        "# Coefficient of determination (R²)\n",
        "r_squared_simulated = model.rsquared\n",
        "\n",
        "# Fit a linear regression model for the upper limit\n",
        "model_upper_limit = sm.OLS(upper_limit_attribute, X).fit()\n",
        "\n",
        "# Fit a linear regression model for the lower limit\n",
        "model_lower_limit = sm.OLS(lower_limit_attribute, X).fit()\n",
        "\n",
        "# Coefficients of intercept and slope for the upper limit\n",
        "coef_intercept_upper, coef_slope_upper = model_upper_limit.params\n",
        "\n",
        "# Coefficients of intercept and slope for the lower limit\n",
        "coef_intercept_lower, coef_slope_lower = model_lower_limit.params\n",
        "\n",
        "# Display coefficients\n",
        "print(\"Coefficients for Upper Limit:\")\n",
        "print(\"Intercept (β0):\", round(coef_intercept_upper, 4))\n",
        "print(\"Slope (β1):\", round(coef_slope_upper, 4))\n",
        "\n",
        "print(\"\\nCoefficients for Lower Limit:\")\n",
        "print(\"Intercept (β0):\", round(coef_intercept_lower, 4))\n",
        "print(\"Slope (β1):\", round(coef_slope_lower, 4))"
      ],
      "metadata": {
        "id": "KY6EYwTDQos7"
      },
      "execution_count": null,
      "outputs": []
    },
    {
      "cell_type": "code",
      "source": [
        "### Observed clay vs. predicted clay scatterplot ###\n",
        "\n",
        "# Desired width and height of the plot\n",
        "plot_width = 9\n",
        "plot_height = 6\n",
        "\n",
        "scatter_plot = (\n",
        "    ggplot(stat_p, aes(x='atr_content', y='mean_pred')) +\n",
        "    theme_classic() +\n",
        "    geom_point(shape='o', color= 'black', fill= '#8069C7', alpha=1, size=1.5, stroke=0.2) + # Data points with black contour +  # Data points\n",
        "    geom_smooth(method='lm', se=False, color='#000000', size=1.2) +  # Trend line\n",
        "    geom_line(aes(y=upper_limit_attribute), color='#E41A1C', size=1) +  # Upper confidence interval line\n",
        "    geom_line(aes(y=lower_limit_attribute), color='#E41A1C', size=1) +  # Lower confidence interval line\n",
        "\n",
        "    annotate('text', x=200, y=850, label=\"β upper limit: {:.3f}\".format(round(coef_intercept_upper, 3)),\n",
        "             family=\"Arial\", size=9)+\n",
        "    annotate('text', x=200, y=817, label=\"β lower limit: {:.3f}\".format(round(coef_intercept_lower, 3)),\n",
        "             family=\"Arial\", size=9)+\n",
        "    annotate('text', x=200, y=784, label=\"R² model: {:.3f}\".format(round(r_squared_simulated, 3)),\n",
        "             family=\"Arial\", size=9)+\n",
        "    annotate('text', x=200, y=751, label=\"α: {:.3f}\".format(round(coef_x, 3)),\n",
        "             family=\"Arial\", size=9)+\n",
        "\n",
        "    #labs(x=\"Observed clay content (g kg⁻¹)\", y=\"Predicted clay content (g kg⁻¹)\") +\n",
        "    labs(x=\"Observed Clay content (g kg$^{-1}$)\", y=\"Predicted Clay content (g kg$^{-1}$)\") +\n",
        "    expand_limits(x=0, y=0) +  # Force the plot to show the origin (0,0)\n",
        "    scale_y_continuous(limits=[0, 1000]) +\n",
        "    scale_x_continuous(limits=[0, 1000]) +\n",
        "    theme(\n",
        "        axis_title_x=element_text(margin={'t': 12}, family=\"Arial\", size=14, face=\"bold\"),\n",
        "        axis_title_y=element_text(margin={'r': 12}, family=\"Arial\", size=14, face=\"bold\"),\n",
        "        axis_text_y=element_text(family=\"Arial\", size=12),\n",
        "        axis_text_x=element_text(family=\"Arial\", size=12)\n",
        "    )\n",
        ")\n",
        "\n",
        "# Display the plot\n",
        "print(scatter_plot)\n",
        "\n",
        "dpi_value = 1000\n",
        "\n",
        "# Setting the working directory\n",
        "output_path = \"D:/alunos/Bruno_B/final_application/hyperspectral_data_approach/Clay/Step_6/scatter_plot_DB_protocol_Clay_hiper.png\"\n",
        "scatter_plot.save(output_path, width=plot_width, height=plot_height, dpi=dpi_value)\n",
        "\n",
        "scatter_plot"
      ],
      "metadata": {
        "id": "rulLkwv6QvGg"
      },
      "execution_count": null,
      "outputs": []
    },
    {
      "cell_type": "code",
      "source": [
        "### Observed C vs. predicted C scatterplot ###\n",
        "\n",
        "# Desired width and height of the plot\n",
        "plot_width = 9\n",
        "plot_height = 6\n",
        "\n",
        "scatter_plot = (\n",
        "    ggplot(stat_p, aes(x='atr_content', y='mean_pred')) +\n",
        "    theme_classic() +\n",
        "    geom_point(shape='o', color= 'black', fill= '#8069C7', alpha=1, size=1.5, stroke=0.2) + # Data points with black contour +  # Data points\n",
        "    geom_smooth(method='lm', se=False, color='#000000', size=1.2) +  # Trend line\n",
        "    geom_line(aes(y=upper_limit_attribute), color='#E41A1C', size=1) +  # Upper confidence interval line\n",
        "    geom_line(aes(y=lower_limit_attribute), color='#E41A1C', size=1) +  # Lower confidence interval line\n",
        "\n",
        "    annotate('text', x=70, y=230, label=\"β upper limit: {:.3f}\".format(round(coef_intercept_upper, 3)),\n",
        "             family=\"Arial\", size=9)+\n",
        "    annotate('text', x=70, y=220, label=\"β lower limit: {:.3f}\".format(round(coef_intercept_lower, 3)),\n",
        "             family=\"Arial\", size=9)+\n",
        "    annotate('text', x=70, y=210, label=\"R² model: {:.3f}\".format(round(r_squared_simulated, 3)),\n",
        "             family=\"Arial\", size=9)+\n",
        "    annotate('text', x=70, y=200, label=\"α: {:.3f}\".format(round(coef_x, 3)),\n",
        "             family=\"Arial\", size=9)+\n",
        "\n",
        "    #labs(x=\"Observed clay content (g kg⁻¹)\", y=\"Predicted clay content (g kg⁻¹)\") +\n",
        "    labs(x=\"Observed C content (g kg$^{-1}$)\", y=\"Predicted C content (g kg$^{-1}$)\") +\n",
        "    expand_limits(x=0, y=0) +  # Force the plot to show the origin (0,0)\n",
        "    scale_y_continuous(limits=[0, 250]) +\n",
        "    scale_x_continuous(limits=[0, 250]) +\n",
        "    theme(\n",
        "        axis_title_x=element_text(margin={'t': 12}, family=\"Arial\", size=14, face=\"bold\"),\n",
        "        axis_title_y=element_text(margin={'r': 12}, family=\"Arial\", size=14, face=\"bold\"),\n",
        "        axis_text_y=element_text(family=\"Arial\", size=12),\n",
        "        axis_text_x=element_text(family=\"Arial\", size=12)\n",
        "    )\n",
        ")\n",
        "\n",
        "# Display the plot\n",
        "print(scatter_plot)\n",
        "\n",
        "dpi_value = 1000\n",
        "\n",
        "# Setting the working directory\n",
        "output_path = \"E:/OneDrive/Documentos/Doutorado/protocol_database/application_of_the_protocol/final_application/hyperspectral_data_approach/Organic_Carbon/scatter_plot_DB_protocol_Carbon_hiper.png\"\n",
        "scatter_plot.save(output_path, width=plot_width, height=plot_height, dpi=dpi_value)\n",
        "\n",
        "scatter_plot"
      ],
      "metadata": {
        "id": "aY0QQ1y2EfIM"
      },
      "execution_count": null,
      "outputs": []
    },
    {
      "cell_type": "code",
      "source": [
        "### After the agreement analysis, filtering the samples in the database ###\n",
        "\n",
        "# Create a subset of samples that are ABOVE the upper_limit_attribute line\n",
        "samples_upper_limit = stat_p[stat_p['mean_pred'] > upper_limit_attribute]\n",
        "\n",
        "# Create a subset of samples that are BELOW the lower_limit_attribute line\n",
        "samples_lower_limit = stat_p[stat_p['mean_pred'] < lower_limit_attribute]\n",
        "\n",
        "# Concatenate the dataframes samples_upper_limit and samples_lower_limit\n",
        "outliers_samples = pd.concat([samples_upper_limit, samples_lower_limit])\n",
        "\n",
        "# Merge the DataFrames based on the ID_Unique column and keep only the columns from the DB DataFrame\n",
        "outliers_samples_6 = pd.merge(outliers_samples[['ID_Unico']], DB, on='ID_Unico', how='inner')\n",
        "\n",
        "IDs_to_filter = outliers_samples['ID_Unico'].tolist()\n",
        "\n",
        "DB_filter_step_6 = DB_filter_step_5\n",
        "\n",
        "# Add a new column \"outliers_step_4\" filled with False\n",
        "DB_filter_step_6.insert(1, \"outliers_step_6\", False)\n",
        "\n",
        "# Update the values to True where ID_Unique is in the list IDs_to_filter\n",
        "DB_filter_step_6.loc[DB_filter_step_6['ID_Unico'].isin(IDs_to_filter), 'outliers_step_6'] = True\n",
        "\n",
        "# Create a new DataFrame with only the rows where outliers_step_4 is True\n",
        "outliers_samples_step_6 = DB_filter_step_6[DB_filter_step_6['outliers_step_6'] == True].copy()\n",
        "\n",
        "# Remove the samples where outliers_step_6 is True\n",
        "DB_filter_step_6 = DB_filter_step_6[DB_filter_step_6['outliers_step_6'] == False].copy()\n",
        "\n",
        "print(outliers_samples_step_6)"
      ],
      "metadata": {
        "id": "bG7czURaQ1_4"
      },
      "execution_count": null,
      "outputs": []
    },
    {
      "cell_type": "code",
      "source": [
        "# Checking the number of samples in the initial dataframe of the attribute that was analyzed,\n",
        "# outliers outliers_samples_step_6, and DB_filter_step_6 dataframe\n",
        "\n",
        "# Print the number of samples in DB_filter_step_5\n",
        "print(\"Number of samples in DB_filter_step_5:\", DB_filter_step_5.shape[0])\n",
        "\n",
        "# Print the number of samples in outliers_samples_step_6\n",
        "print(\"Number of samples in outliers_samples_step_6:\", outliers_samples_step_6.shape[0])\n",
        "\n",
        "# Print the number of samples in DB_filter_step_6\n",
        "print(\"Number of samples in DB_filter_step_6:\", DB_filter_step_6.shape[0])"
      ],
      "metadata": {
        "id": "my1j0iONRPwg"
      },
      "execution_count": null,
      "outputs": []
    },
    {
      "cell_type": "code",
      "source": [
        "# Save the DB_filter_step_6 and outliers_samples_step_6 DataFrame as a CSV file\n",
        "# Setting the working directory\n",
        "os.chdir(\"D:/alunos/Bruno_B/final_application/hyperspectral_data_approach/Organic_Carbon/Step_6\")\n",
        "\n",
        "# Save the outliers_samples_6 DataFrame as a CSV file\n",
        "outliers_samples_step_6.to_csv(\"outliers_samples_step_6_Carbon.csv\", index=False)\n",
        "\n",
        "# Save the DB_filter_6 DataFrame as a CSV file\n",
        "DB_filter_step_6.to_csv(\"DB_protocol_filter_step_6_Carbon_1.35.csv\", index=False)"
      ],
      "metadata": {
        "id": "jwDda-nnRTcp"
      },
      "execution_count": null,
      "outputs": []
    },
    {
      "cell_type": "markdown",
      "source": [
        "# **Clear all variables**"
      ],
      "metadata": {
        "id": "ak7LTZh08Qg3"
      }
    },
    {
      "cell_type": "code",
      "source": [
        "# Remove all environment variables\n",
        "%reset -f\n",
        "\n",
        "# Remove all loaded imports and modules\n",
        "import gc\n",
        "gc.collect()"
      ],
      "metadata": {
        "id": "Np_jzfBO8ORo"
      },
      "execution_count": null,
      "outputs": []
    },
    {
      "cell_type": "code",
      "source": [
        "from plotnine import *\n",
        "\n",
        "# Create the color palette based on the number of clusters\n",
        "palette = [\"#E41A1C\", \"#377EB8\", \"#4DAF4A\", \"#984EA3\", \"#FF760A\", \"#FFD700\",\n",
        "           \"#0AB2D1\", \"#F781BF\", \"#999999\", \"#66C2A5\", \"#8C564B\", \"#1F78B4\",\n",
        "           \"#B2DF8A\", \"#FB9A99\", \"#FDBF6F\", \"#CAB2D6\", \"#6A3D9A\"]\n",
        "\n",
        "# Set the desired plot size\n",
        "plot_width = 5.5\n",
        "plot_height = 2\n",
        "\n",
        "# Create the plot using plotnine\n",
        "box_plot_1 = (\n",
        "    ggplot(Observation_final, aes(x='factor(cluster)', y='Clay_gkg', fill='factor(cluster)')) +\n",
        "    geom_boxplot(alpha=0.7, width=0.5, outlier_size=0.07) +\n",
        "    scale_fill_manual(values=palette) +\n",
        "    scale_y_continuous(limits=[0, 900]) +\n",
        "    labs(title='Box Plot of Clay gkg for Each Cluster before filter',\n",
        "         x='Cluster',\n",
        "         y='Clay gkg$^{-1}$') +\n",
        "    coord_flip() +  # Invert the axes\n",
        "    theme_minimal() +\n",
        "    theme(\n",
        "        figure_size=(plot_width, plot_height),\n",
        "        plot_title=element_text(size=13, face=\"bold\"),\n",
        "        axis_title_x=element_text(size=10, face=\"bold\"),\n",
        "        axis_title_y=element_text(size=10, face=\"bold\"),\n",
        "        plot_background=element_rect(fill=\"white\")\n",
        "    )\n",
        ")\n",
        "\n",
        "# Display the plot\n",
        "print(box_plot_1)\n",
        "\n",
        "# Save the plot\n",
        "dpi_value = 1000\n",
        "output_path = \"G:/OneDrive/Documentos/Doutorado/protocol_database/protocol_update/figuras_resultados/box_plot_1_invertido_Clay.png\"\n",
        "box_plot_1.save(output_path, width=plot_width, height=plot_height, dpi=dpi_value)\n"
      ],
      "metadata": {
        "id": "g_4SVX8xgRtc"
      },
      "execution_count": null,
      "outputs": []
    },
    {
      "cell_type": "code",
      "source": [
        "# Create an empty DataFrame called results\n",
        "results = pd.DataFrame()\n",
        "\n",
        "# Loop through clusters from 1 to 10\n",
        "for i in range(1, 10):\n",
        "    # Filter the DataFrame to select only the records where the \"cluster\" column is equal to i\n",
        "    data_estratificado = Soil_data_clustered[Soil_data_clustered['cluster'] == i]\n",
        "\n",
        "    # Find the indices of the columns named \"350\" and \"2500\"\n",
        "    indice_coluna_inicio = data_estratificado.columns.get_loc(\"420\")\n",
        "    indice_coluna_fim = data_estratificado.columns.get_loc(\"2500\") + 1\n",
        "\n",
        "    # Select the columns by the range of indices\n",
        "    colunas_selecionadas = data_estratificado.iloc[:, indice_coluna_inicio:indice_coluna_fim]\n",
        "\n",
        "    # Calculate the mean and standard deviation of the selected columns\n",
        "    medias = colunas_selecionadas.mean(numeric_only=True)\n",
        "    desvio_padrao = colunas_selecionadas.std(numeric_only=True)\n",
        "\n",
        "    # Create a temporary DataFrame with the results for the current cluster\n",
        "    results_cluster = pd.DataFrame({\n",
        "        'cluster': [i] * len(medias),\n",
        "        'wavelength': medias.index.astype(float),\n",
        "        'average_reflectance': medias.values,\n",
        "        'sd': desvio_padrao.values\n",
        "    })\n",
        "\n",
        "    # Add the results of the current cluster to the main DataFrame\n",
        "    results = pd.concat([results, results_cluster], ignore_index=True)\n",
        "\n",
        "\n",
        "# Delete rows where 'average_reflectance' is NaN (null)\n",
        "results = results.dropna(subset=['average_reflectance'])\n",
        "\n",
        "# Create the color palette based on the number of clusters\n",
        "palette = [\"#E41A1C\", \"#377EB8\", \"#4DAF4A\", \"#984EA3\",\"#FF760A\",\"#FFD700\",\n",
        "           \"#0AB2D1\", \"#F781BF\", \"#999999\", \"#66C2A5\", \"#8C564B\",\"#1F78B4\",\n",
        "           \"#B2DF8A\", \"#FB9A99\", \"#FDBF6F\", \"#CAB2D6\", \"#6A3D9A\"]\n",
        "\n",
        "\n",
        "# Desired width and height of the plot\n",
        "plot_width = 12\n",
        "plot_height = 9\n",
        "\n",
        "spectral_behavior = (ggplot(results, aes(x='wavelength',\n",
        "                                         y='average_reflectance',\n",
        "                                         group='cluster')) +\n",
        "\n",
        "  geom_line(aes(color='factor(cluster)'), size=0.85) +\n",
        "  scale_y_continuous(limits=[0, 0.7]) +\n",
        "  scale_color_manual(values=palette) +  # Manually set the colors\n",
        "  scale_fill_manual(values=palette) +  # Manually set the fill colors\n",
        "  labs(title='Spectral behavior of clusters',\n",
        "       x='Wavelength (nm)',\n",
        "       y='Reflectance factor',\n",
        "       color='Cluster',   # Name the color legend\n",
        "       fill='Cluster') +  # Name the fill legend\n",
        "  theme_minimal() +\n",
        "  theme(figure_size=(plot_width, plot_height),\n",
        "        plot_title=element_text(size=15, face=\"bold\"),\n",
        "        axis_title_x=element_text(size=12, face=\"bold\"),\n",
        "        axis_title_y=element_text(size=12, face=\"bold\"),\n",
        "        legend_text=element_text(size=10),\n",
        "        legend_title=element_text(size=12, face=\"bold\"),\n",
        "        plot_background=element_rect(fill=\"white\")))\n",
        "\n",
        "\n",
        "print(spectral_behavior)\n",
        "\n",
        "dpi_value = 1000\n",
        "\n",
        "# Setting the working directory\n",
        "output_path = \"G:/OneDrive/Documentos/Doutorado/protocol_database/protocol_update/figuras_resultados/spectral_behavior.png\"\n",
        "spectral_behavior.save(output_path, width=plot_width, height=plot_height, dpi=dpi_value)"
      ],
      "metadata": {
        "id": "aGJ8RBhSJYFy"
      },
      "execution_count": null,
      "outputs": []
    }
  ]
}